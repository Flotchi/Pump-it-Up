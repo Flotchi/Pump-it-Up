{
 "cells": [
  {
   "cell_type": "markdown",
   "id": "004076aa",
   "metadata": {},
   "source": [
    "Experimentation phase to explore preprocessing type, compare model and iterate on features selection. To simplify, binary classification"
   ]
  },
  {
   "cell_type": "code",
   "execution_count": 44,
   "id": "4c428b5b",
   "metadata": {
    "ExecuteTime": {
     "end_time": "2025-03-22T17:13:15.599070Z",
     "start_time": "2025-03-22T17:13:15.485690Z"
    }
   },
   "outputs": [],
   "source": [
    "#import libraries\n",
    "import pandas as pd\n",
    "\n",
    "from sklearn.preprocessing import OrdinalEncoder\n",
    "from sklearn.preprocessing import OneHotEncoder\n",
    "from category_encoders import TargetEncoder\n",
    "\n",
    "from sklearn.preprocessing import RobustScaler, MinMaxScaler\n",
    "\n",
    "from sklearn.compose import ColumnTransformer\n",
    "from sklearn.pipeline import make_pipeline\n",
    "\n",
    "from sklearn.linear_model import LogisticRegression\n",
    "from sklearn.tree import DecisionTreeClassifier\n",
    "from sklearn.ensemble import RandomForestClassifier\n",
    "\n",
    "from sklearn.model_selection import cross_val_score,train_test_split, GridSearchCV"
   ]
  },
  {
   "cell_type": "code",
   "execution_count": 2,
   "id": "0a3aa419",
   "metadata": {
    "ExecuteTime": {
     "end_time": "2025-03-22T16:31:37.935210Z",
     "start_time": "2025-03-22T16:31:37.542305Z"
    }
   },
   "outputs": [],
   "source": [
    "#import dataset\n",
    "df = pd.read_csv('clean_training_set.csv', index_col='id')"
   ]
  },
  {
   "cell_type": "code",
   "execution_count": 3,
   "id": "95d6bcac",
   "metadata": {
    "ExecuteTime": {
     "end_time": "2025-03-22T16:31:37.967551Z",
     "start_time": "2025-03-22T16:31:37.944106Z"
    }
   },
   "outputs": [],
   "source": [
    "df.drop(['Unnamed: 0'], axis=1, inplace=True)"
   ]
  },
  {
   "cell_type": "code",
   "execution_count": 4,
   "id": "f4186e1d",
   "metadata": {
    "ExecuteTime": {
     "end_time": "2025-03-22T16:31:38.054558Z",
     "start_time": "2025-03-22T16:31:37.973756Z"
    },
    "collapsed": true
   },
   "outputs": [
    {
     "name": "stdout",
     "output_type": "stream",
     "text": [
      "<class 'pandas.core.frame.DataFrame'>\n",
      "Index: 59400 entries, 69572 to 26348\n",
      "Data columns (total 21 columns):\n",
      " #   Column             Non-Null Count  Dtype  \n",
      "---  ------             --------------  -----  \n",
      " 0   amount_tsh         59400 non-null  float64\n",
      " 1   gps_height         59400 non-null  float64\n",
      " 2   longitude          59400 non-null  float64\n",
      " 3   latitude           59400 non-null  float64\n",
      " 4   basin              59400 non-null  object \n",
      " 5   region             59400 non-null  object \n",
      " 6   district_code      59400 non-null  int64  \n",
      " 7   ward               59400 non-null  object \n",
      " 8   population         59400 non-null  float64\n",
      " 9   scheme_management  59400 non-null  object \n",
      " 10  extraction_type    59400 non-null  object \n",
      " 11  management         59400 non-null  object \n",
      " 12  payment_type       59400 non-null  object \n",
      " 13  water_quality      59400 non-null  object \n",
      " 14  quantity           59400 non-null  object \n",
      " 15  source             59400 non-null  object \n",
      " 16  waterpoint_type    59400 non-null  object \n",
      " 17  status_group       59400 non-null  object \n",
      " 18  operation_time     59400 non-null  float64\n",
      " 19  top_installer      59400 non-null  object \n",
      " 20  top_funders        59400 non-null  object \n",
      "dtypes: float64(6), int64(1), object(14)\n",
      "memory usage: 10.0+ MB\n"
     ]
    }
   ],
   "source": [
    "df.info()"
   ]
  },
  {
   "cell_type": "code",
   "execution_count": 5,
   "id": "74078330",
   "metadata": {
    "ExecuteTime": {
     "end_time": "2025-03-22T16:31:38.109881Z",
     "start_time": "2025-03-22T16:31:38.061493Z"
    }
   },
   "outputs": [],
   "source": [
    "#drop repairs labels\n",
    "df_binary = df[df['status_group'] != 'functional needs repair']"
   ]
  },
  {
   "cell_type": "code",
   "execution_count": 6,
   "id": "0ec444a3",
   "metadata": {
    "ExecuteTime": {
     "end_time": "2025-03-22T16:31:38.143449Z",
     "start_time": "2025-03-22T16:31:38.115555Z"
    }
   },
   "outputs": [
    {
     "name": "stderr",
     "output_type": "stream",
     "text": [
      "/var/folders/yd/gfq2m1_d7rz1csn10_r09zkc0000gn/T/ipykernel_94138/2615241183.py:2: SettingWithCopyWarning: \n",
      "A value is trying to be set on a copy of a slice from a DataFrame.\n",
      "Try using .loc[row_indexer,col_indexer] = value instead\n",
      "\n",
      "See the caveats in the documentation: https://pandas.pydata.org/pandas-docs/stable/user_guide/indexing.html#returning-a-view-versus-a-copy\n",
      "  df_binary['status_group'] = df_binary['status_group'].map({'functional': 1,'non functional': 0})\n"
     ]
    }
   ],
   "source": [
    "#encode labels (binaire)\n",
    "df_binary['status_group'] = df_binary['status_group'].map({'functional': 1,'non functional': 0})"
   ]
  },
  {
   "cell_type": "code",
   "execution_count": 7,
   "id": "1764dc98",
   "metadata": {
    "ExecuteTime": {
     "end_time": "2025-03-22T16:31:38.193102Z",
     "start_time": "2025-03-22T16:31:38.157945Z"
    }
   },
   "outputs": [
    {
     "data": {
      "text/plain": [
       "array([1, 0])"
      ]
     },
     "execution_count": 7,
     "metadata": {},
     "output_type": "execute_result"
    }
   ],
   "source": [
    "df_binary['status_group'].unique()"
   ]
  },
  {
   "cell_type": "code",
   "execution_count": 8,
   "id": "78b659b7",
   "metadata": {
    "ExecuteTime": {
     "end_time": "2025-03-22T16:31:38.208790Z",
     "start_time": "2025-03-22T16:31:38.199558Z"
    }
   },
   "outputs": [],
   "source": [
    "features = df_binary.columns.drop(['status_group'])"
   ]
  },
  {
   "cell_type": "code",
   "execution_count": 9,
   "id": "25cdea4b",
   "metadata": {
    "ExecuteTime": {
     "end_time": "2025-03-22T16:31:38.230488Z",
     "start_time": "2025-03-22T16:31:38.222275Z"
    }
   },
   "outputs": [],
   "source": [
    "features = features.to_list()"
   ]
  },
  {
   "cell_type": "code",
   "execution_count": 10,
   "id": "78f379dd",
   "metadata": {
    "ExecuteTime": {
     "end_time": "2025-03-22T16:31:38.250966Z",
     "start_time": "2025-03-22T16:31:38.235014Z"
    }
   },
   "outputs": [],
   "source": [
    "X = df_binary[features]"
   ]
  },
  {
   "cell_type": "code",
   "execution_count": 11,
   "id": "a38b87fe",
   "metadata": {
    "ExecuteTime": {
     "end_time": "2025-03-22T16:31:38.258783Z",
     "start_time": "2025-03-22T16:31:38.255142Z"
    }
   },
   "outputs": [],
   "source": [
    "y = df_binary['status_group']"
   ]
  },
  {
   "cell_type": "markdown",
   "id": "c743ebf8",
   "metadata": {},
   "source": [
    "# Compare Preprocessing method"
   ]
  },
  {
   "cell_type": "markdown",
   "id": "e2c79015",
   "metadata": {},
   "source": [
    "Robust Scaler & One hot encoder"
   ]
  },
  {
   "cell_type": "code",
   "execution_count": 12,
   "id": "06c5196d",
   "metadata": {
    "ExecuteTime": {
     "end_time": "2025-03-22T16:31:38.295370Z",
     "start_time": "2025-03-22T16:31:38.263520Z"
    }
   },
   "outputs": [],
   "source": [
    "#encode categorical features\n",
    "categorical = X.select_dtypes('object').columns"
   ]
  },
  {
   "cell_type": "code",
   "execution_count": 13,
   "id": "6da5446f",
   "metadata": {
    "ExecuteTime": {
     "end_time": "2025-03-22T16:31:38.309515Z",
     "start_time": "2025-03-22T16:31:38.304110Z"
    }
   },
   "outputs": [],
   "source": [
    "ohe = OneHotEncoder(handle_unknown='ignore')"
   ]
  },
  {
   "cell_type": "code",
   "execution_count": 14,
   "id": "261571ae",
   "metadata": {
    "ExecuteTime": {
     "end_time": "2025-03-22T16:31:38.323098Z",
     "start_time": "2025-03-22T16:31:38.315868Z"
    }
   },
   "outputs": [],
   "source": [
    "#scaling\n",
    "num_col = X.select_dtypes(['int','float']).columns\n",
    "rs = RobustScaler()"
   ]
  },
  {
   "cell_type": "code",
   "execution_count": 17,
   "id": "c5c43e2d",
   "metadata": {
    "ExecuteTime": {
     "end_time": "2025-03-22T16:35:10.871795Z",
     "start_time": "2025-03-22T16:35:10.865621Z"
    }
   },
   "outputs": [],
   "source": [
    "#make pipeline\n",
    "num_transformer = make_pipeline(rs)\n",
    "cat_transformer = make_pipeline(ohe)"
   ]
  },
  {
   "cell_type": "code",
   "execution_count": 18,
   "id": "5f2b6808",
   "metadata": {
    "ExecuteTime": {
     "end_time": "2025-03-22T16:35:12.353017Z",
     "start_time": "2025-03-22T16:35:12.346835Z"
    }
   },
   "outputs": [],
   "source": [
    "preprocessor = ColumnTransformer(\n",
    "      transformers=[('num', num_transformer, num_col),\n",
    "                    ('cat', cat_transformer, categorical)])"
   ]
  },
  {
   "cell_type": "code",
   "execution_count": 19,
   "id": "00975eb1",
   "metadata": {
    "ExecuteTime": {
     "end_time": "2025-03-22T16:35:12.797819Z",
     "start_time": "2025-03-22T16:35:12.790832Z"
    }
   },
   "outputs": [],
   "source": [
    "lr = LogisticRegression(class_weight = 'balanced', solver = 'lbfgs',max_iter=500)"
   ]
  },
  {
   "cell_type": "code",
   "execution_count": 20,
   "id": "1ece31ca",
   "metadata": {
    "ExecuteTime": {
     "end_time": "2025-03-22T16:35:13.275907Z",
     "start_time": "2025-03-22T16:35:13.268728Z"
    }
   },
   "outputs": [],
   "source": [
    "pipe = make_pipeline(preprocessor,lr)"
   ]
  },
  {
   "cell_type": "code",
   "execution_count": 21,
   "id": "e3d12706",
   "metadata": {
    "ExecuteTime": {
     "end_time": "2025-03-22T16:35:26.314756Z",
     "start_time": "2025-03-22T16:35:14.156556Z"
    }
   },
   "outputs": [],
   "source": [
    "cv = cross_val_score(pipe, X, y, cv=5,scoring='roc_auc')"
   ]
  },
  {
   "cell_type": "code",
   "execution_count": 22,
   "id": "c1a3817c",
   "metadata": {
    "ExecuteTime": {
     "end_time": "2025-03-22T16:36:34.672973Z",
     "start_time": "2025-03-22T16:36:34.663438Z"
    }
   },
   "outputs": [
    {
     "data": {
      "text/plain": [
       "0.8919496205157884"
      ]
     },
     "execution_count": 22,
     "metadata": {},
     "output_type": "execute_result"
    }
   ],
   "source": [
    "cv.mean()"
   ]
  },
  {
   "cell_type": "markdown",
   "id": "7d81ad0d",
   "metadata": {},
   "source": [
    "TargetEncoder & MinMax Scaler"
   ]
  },
  {
   "cell_type": "code",
   "execution_count": 24,
   "id": "8015771f",
   "metadata": {
    "ExecuteTime": {
     "end_time": "2025-03-22T16:50:54.637129Z",
     "start_time": "2025-03-22T16:50:54.622999Z"
    }
   },
   "outputs": [],
   "source": [
    "scaler = MinMaxScaler()\n",
    "te = TargetEncoder(cols=categorical)"
   ]
  },
  {
   "cell_type": "code",
   "execution_count": 25,
   "id": "9173ce2f",
   "metadata": {
    "ExecuteTime": {
     "end_time": "2025-03-22T16:52:44.455158Z",
     "start_time": "2025-03-22T16:52:44.437907Z"
    }
   },
   "outputs": [],
   "source": [
    "#make pipeline\n",
    "num_transformer = make_pipeline(scaler)\n",
    "cat_transformer = make_pipeline(te)"
   ]
  },
  {
   "cell_type": "code",
   "execution_count": 26,
   "id": "e07c185e",
   "metadata": {
    "ExecuteTime": {
     "end_time": "2025-03-22T16:52:46.810737Z",
     "start_time": "2025-03-22T16:52:46.804404Z"
    }
   },
   "outputs": [],
   "source": [
    "preprocessor = ColumnTransformer(\n",
    "      transformers=[('num', num_transformer, num_col),\n",
    "                    ('cat', cat_transformer, categorical)])"
   ]
  },
  {
   "cell_type": "code",
   "execution_count": 27,
   "id": "6b1de3d7",
   "metadata": {
    "ExecuteTime": {
     "end_time": "2025-03-22T16:52:47.290684Z",
     "start_time": "2025-03-22T16:52:47.279489Z"
    }
   },
   "outputs": [],
   "source": [
    "pipe = make_pipeline(preprocessor,lr)"
   ]
  },
  {
   "cell_type": "code",
   "execution_count": 28,
   "id": "1d50bf23",
   "metadata": {
    "ExecuteTime": {
     "end_time": "2025-03-22T16:52:52.536185Z",
     "start_time": "2025-03-22T16:52:48.000242Z"
    }
   },
   "outputs": [],
   "source": [
    "cv = cross_val_score(pipe, X, y, cv=5,scoring='roc_auc')"
   ]
  },
  {
   "cell_type": "code",
   "execution_count": 29,
   "id": "ee871e5b",
   "metadata": {
    "ExecuteTime": {
     "end_time": "2025-03-22T16:52:56.567863Z",
     "start_time": "2025-03-22T16:52:56.507926Z"
    }
   },
   "outputs": [
    {
     "data": {
      "text/plain": [
       "0.8586442066549441"
      ]
     },
     "execution_count": 29,
     "metadata": {},
     "output_type": "execute_result"
    }
   ],
   "source": [
    "cv.mean()"
   ]
  },
  {
   "cell_type": "markdown",
   "id": "9c0651e3",
   "metadata": {},
   "source": [
    "TargetEncoder & Robust Scaler"
   ]
  },
  {
   "cell_type": "code",
   "execution_count": 30,
   "id": "1aa2a1ec",
   "metadata": {
    "ExecuteTime": {
     "end_time": "2025-03-22T16:56:32.552587Z",
     "start_time": "2025-03-22T16:56:32.530793Z"
    }
   },
   "outputs": [],
   "source": [
    "scaler = RobustScaler()\n",
    "te = TargetEncoder(cols=categorical)\n",
    "#make pipeline\n",
    "num_transformer = make_pipeline(scaler)\n",
    "cat_transformer = make_pipeline(te)\n",
    "preprocessor = ColumnTransformer(\n",
    "      transformers=[('num', num_transformer, num_col),\n",
    "                    ('cat', cat_transformer, categorical)])\n",
    "pipe = make_pipeline(preprocessor,lr)"
   ]
  },
  {
   "cell_type": "code",
   "execution_count": 31,
   "id": "4dc5db31",
   "metadata": {
    "ExecuteTime": {
     "end_time": "2025-03-22T16:56:45.431207Z",
     "start_time": "2025-03-22T16:56:33.676892Z"
    }
   },
   "outputs": [
    {
     "data": {
      "text/plain": [
       "0.8587321832375583"
      ]
     },
     "execution_count": 31,
     "metadata": {},
     "output_type": "execute_result"
    }
   ],
   "source": [
    "cv = cross_val_score(pipe, X, y, cv=5,scoring='roc_auc')\n",
    "cv.mean()"
   ]
  },
  {
   "cell_type": "markdown",
   "id": "51f223bc",
   "metadata": {},
   "source": [
    "MinMax & One Hot"
   ]
  },
  {
   "cell_type": "code",
   "execution_count": 36,
   "id": "0ea82115",
   "metadata": {
    "ExecuteTime": {
     "end_time": "2025-03-22T17:01:26.507142Z",
     "start_time": "2025-03-22T17:01:26.483052Z"
    }
   },
   "outputs": [],
   "source": [
    "scaler = MinMaxScaler()\n",
    "ohe = OneHotEncoder(handle_unknown='ignore')\n",
    "#make pipeline\n",
    "num_transformer = make_pipeline(scaler)\n",
    "cat_transformer = make_pipeline(ohe)\n",
    "preprocessor = ColumnTransformer(\n",
    "      transformers=[('num', num_transformer, num_col),\n",
    "                    ('cat', cat_transformer, categorical)])\n",
    "pipe = make_pipeline(preprocessor,lr)"
   ]
  },
  {
   "cell_type": "code",
   "execution_count": 37,
   "id": "1f033fab",
   "metadata": {
    "ExecuteTime": {
     "end_time": "2025-03-22T17:01:34.269111Z",
     "start_time": "2025-03-22T17:01:27.008886Z"
    }
   },
   "outputs": [
    {
     "data": {
      "text/plain": [
       "0.8917535283696519"
      ]
     },
     "execution_count": 37,
     "metadata": {},
     "output_type": "execute_result"
    }
   ],
   "source": [
    "cv = cross_val_score(pipe, X, y, cv=5,scoring='roc_auc')\n",
    "cv.mean()"
   ]
  },
  {
   "cell_type": "markdown",
   "id": "7b3d5827",
   "metadata": {},
   "source": [
    "--> Best perform with Ohe + Robust Scaler"
   ]
  },
  {
   "cell_type": "markdown",
   "id": "63533141",
   "metadata": {},
   "source": [
    "# Compare Models"
   ]
  },
  {
   "cell_type": "markdown",
   "id": "e3900f6b",
   "metadata": {},
   "source": [
    "Decision Tree Classifier"
   ]
  },
  {
   "cell_type": "code",
   "execution_count": 38,
   "id": "d0a1436d",
   "metadata": {
    "ExecuteTime": {
     "end_time": "2025-03-22T17:06:28.356971Z",
     "start_time": "2025-03-22T17:06:28.291294Z"
    }
   },
   "outputs": [
    {
     "data": {
      "text/html": [
       "<style>#sk-container-id-1 {\n",
       "  /* Definition of color scheme common for light and dark mode */\n",
       "  --sklearn-color-text: #000;\n",
       "  --sklearn-color-text-muted: #666;\n",
       "  --sklearn-color-line: gray;\n",
       "  /* Definition of color scheme for unfitted estimators */\n",
       "  --sklearn-color-unfitted-level-0: #fff5e6;\n",
       "  --sklearn-color-unfitted-level-1: #f6e4d2;\n",
       "  --sklearn-color-unfitted-level-2: #ffe0b3;\n",
       "  --sklearn-color-unfitted-level-3: chocolate;\n",
       "  /* Definition of color scheme for fitted estimators */\n",
       "  --sklearn-color-fitted-level-0: #f0f8ff;\n",
       "  --sklearn-color-fitted-level-1: #d4ebff;\n",
       "  --sklearn-color-fitted-level-2: #b3dbfd;\n",
       "  --sklearn-color-fitted-level-3: cornflowerblue;\n",
       "\n",
       "  /* Specific color for light theme */\n",
       "  --sklearn-color-text-on-default-background: var(--sg-text-color, var(--theme-code-foreground, var(--jp-content-font-color1, black)));\n",
       "  --sklearn-color-background: var(--sg-background-color, var(--theme-background, var(--jp-layout-color0, white)));\n",
       "  --sklearn-color-border-box: var(--sg-text-color, var(--theme-code-foreground, var(--jp-content-font-color1, black)));\n",
       "  --sklearn-color-icon: #696969;\n",
       "\n",
       "  @media (prefers-color-scheme: dark) {\n",
       "    /* Redefinition of color scheme for dark theme */\n",
       "    --sklearn-color-text-on-default-background: var(--sg-text-color, var(--theme-code-foreground, var(--jp-content-font-color1, white)));\n",
       "    --sklearn-color-background: var(--sg-background-color, var(--theme-background, var(--jp-layout-color0, #111)));\n",
       "    --sklearn-color-border-box: var(--sg-text-color, var(--theme-code-foreground, var(--jp-content-font-color1, white)));\n",
       "    --sklearn-color-icon: #878787;\n",
       "  }\n",
       "}\n",
       "\n",
       "#sk-container-id-1 {\n",
       "  color: var(--sklearn-color-text);\n",
       "}\n",
       "\n",
       "#sk-container-id-1 pre {\n",
       "  padding: 0;\n",
       "}\n",
       "\n",
       "#sk-container-id-1 input.sk-hidden--visually {\n",
       "  border: 0;\n",
       "  clip: rect(1px 1px 1px 1px);\n",
       "  clip: rect(1px, 1px, 1px, 1px);\n",
       "  height: 1px;\n",
       "  margin: -1px;\n",
       "  overflow: hidden;\n",
       "  padding: 0;\n",
       "  position: absolute;\n",
       "  width: 1px;\n",
       "}\n",
       "\n",
       "#sk-container-id-1 div.sk-dashed-wrapped {\n",
       "  border: 1px dashed var(--sklearn-color-line);\n",
       "  margin: 0 0.4em 0.5em 0.4em;\n",
       "  box-sizing: border-box;\n",
       "  padding-bottom: 0.4em;\n",
       "  background-color: var(--sklearn-color-background);\n",
       "}\n",
       "\n",
       "#sk-container-id-1 div.sk-container {\n",
       "  /* jupyter's `normalize.less` sets `[hidden] { display: none; }`\n",
       "     but bootstrap.min.css set `[hidden] { display: none !important; }`\n",
       "     so we also need the `!important` here to be able to override the\n",
       "     default hidden behavior on the sphinx rendered scikit-learn.org.\n",
       "     See: https://github.com/scikit-learn/scikit-learn/issues/21755 */\n",
       "  display: inline-block !important;\n",
       "  position: relative;\n",
       "}\n",
       "\n",
       "#sk-container-id-1 div.sk-text-repr-fallback {\n",
       "  display: none;\n",
       "}\n",
       "\n",
       "div.sk-parallel-item,\n",
       "div.sk-serial,\n",
       "div.sk-item {\n",
       "  /* draw centered vertical line to link estimators */\n",
       "  background-image: linear-gradient(var(--sklearn-color-text-on-default-background), var(--sklearn-color-text-on-default-background));\n",
       "  background-size: 2px 100%;\n",
       "  background-repeat: no-repeat;\n",
       "  background-position: center center;\n",
       "}\n",
       "\n",
       "/* Parallel-specific style estimator block */\n",
       "\n",
       "#sk-container-id-1 div.sk-parallel-item::after {\n",
       "  content: \"\";\n",
       "  width: 100%;\n",
       "  border-bottom: 2px solid var(--sklearn-color-text-on-default-background);\n",
       "  flex-grow: 1;\n",
       "}\n",
       "\n",
       "#sk-container-id-1 div.sk-parallel {\n",
       "  display: flex;\n",
       "  align-items: stretch;\n",
       "  justify-content: center;\n",
       "  background-color: var(--sklearn-color-background);\n",
       "  position: relative;\n",
       "}\n",
       "\n",
       "#sk-container-id-1 div.sk-parallel-item {\n",
       "  display: flex;\n",
       "  flex-direction: column;\n",
       "}\n",
       "\n",
       "#sk-container-id-1 div.sk-parallel-item:first-child::after {\n",
       "  align-self: flex-end;\n",
       "  width: 50%;\n",
       "}\n",
       "\n",
       "#sk-container-id-1 div.sk-parallel-item:last-child::after {\n",
       "  align-self: flex-start;\n",
       "  width: 50%;\n",
       "}\n",
       "\n",
       "#sk-container-id-1 div.sk-parallel-item:only-child::after {\n",
       "  width: 0;\n",
       "}\n",
       "\n",
       "/* Serial-specific style estimator block */\n",
       "\n",
       "#sk-container-id-1 div.sk-serial {\n",
       "  display: flex;\n",
       "  flex-direction: column;\n",
       "  align-items: center;\n",
       "  background-color: var(--sklearn-color-background);\n",
       "  padding-right: 1em;\n",
       "  padding-left: 1em;\n",
       "}\n",
       "\n",
       "\n",
       "/* Toggleable style: style used for estimator/Pipeline/ColumnTransformer box that is\n",
       "clickable and can be expanded/collapsed.\n",
       "- Pipeline and ColumnTransformer use this feature and define the default style\n",
       "- Estimators will overwrite some part of the style using the `sk-estimator` class\n",
       "*/\n",
       "\n",
       "/* Pipeline and ColumnTransformer style (default) */\n",
       "\n",
       "#sk-container-id-1 div.sk-toggleable {\n",
       "  /* Default theme specific background. It is overwritten whether we have a\n",
       "  specific estimator or a Pipeline/ColumnTransformer */\n",
       "  background-color: var(--sklearn-color-background);\n",
       "}\n",
       "\n",
       "/* Toggleable label */\n",
       "#sk-container-id-1 label.sk-toggleable__label {\n",
       "  cursor: pointer;\n",
       "  display: flex;\n",
       "  width: 100%;\n",
       "  margin-bottom: 0;\n",
       "  padding: 0.5em;\n",
       "  box-sizing: border-box;\n",
       "  text-align: center;\n",
       "  align-items: start;\n",
       "  justify-content: space-between;\n",
       "  gap: 0.5em;\n",
       "}\n",
       "\n",
       "#sk-container-id-1 label.sk-toggleable__label .caption {\n",
       "  font-size: 0.6rem;\n",
       "  font-weight: lighter;\n",
       "  color: var(--sklearn-color-text-muted);\n",
       "}\n",
       "\n",
       "#sk-container-id-1 label.sk-toggleable__label-arrow:before {\n",
       "  /* Arrow on the left of the label */\n",
       "  content: \"▸\";\n",
       "  float: left;\n",
       "  margin-right: 0.25em;\n",
       "  color: var(--sklearn-color-icon);\n",
       "}\n",
       "\n",
       "#sk-container-id-1 label.sk-toggleable__label-arrow:hover:before {\n",
       "  color: var(--sklearn-color-text);\n",
       "}\n",
       "\n",
       "/* Toggleable content - dropdown */\n",
       "\n",
       "#sk-container-id-1 div.sk-toggleable__content {\n",
       "  max-height: 0;\n",
       "  max-width: 0;\n",
       "  overflow: hidden;\n",
       "  text-align: left;\n",
       "  /* unfitted */\n",
       "  background-color: var(--sklearn-color-unfitted-level-0);\n",
       "}\n",
       "\n",
       "#sk-container-id-1 div.sk-toggleable__content.fitted {\n",
       "  /* fitted */\n",
       "  background-color: var(--sklearn-color-fitted-level-0);\n",
       "}\n",
       "\n",
       "#sk-container-id-1 div.sk-toggleable__content pre {\n",
       "  margin: 0.2em;\n",
       "  border-radius: 0.25em;\n",
       "  color: var(--sklearn-color-text);\n",
       "  /* unfitted */\n",
       "  background-color: var(--sklearn-color-unfitted-level-0);\n",
       "}\n",
       "\n",
       "#sk-container-id-1 div.sk-toggleable__content.fitted pre {\n",
       "  /* unfitted */\n",
       "  background-color: var(--sklearn-color-fitted-level-0);\n",
       "}\n",
       "\n",
       "#sk-container-id-1 input.sk-toggleable__control:checked~div.sk-toggleable__content {\n",
       "  /* Expand drop-down */\n",
       "  max-height: 200px;\n",
       "  max-width: 100%;\n",
       "  overflow: auto;\n",
       "}\n",
       "\n",
       "#sk-container-id-1 input.sk-toggleable__control:checked~label.sk-toggleable__label-arrow:before {\n",
       "  content: \"▾\";\n",
       "}\n",
       "\n",
       "/* Pipeline/ColumnTransformer-specific style */\n",
       "\n",
       "#sk-container-id-1 div.sk-label input.sk-toggleable__control:checked~label.sk-toggleable__label {\n",
       "  color: var(--sklearn-color-text);\n",
       "  background-color: var(--sklearn-color-unfitted-level-2);\n",
       "}\n",
       "\n",
       "#sk-container-id-1 div.sk-label.fitted input.sk-toggleable__control:checked~label.sk-toggleable__label {\n",
       "  background-color: var(--sklearn-color-fitted-level-2);\n",
       "}\n",
       "\n",
       "/* Estimator-specific style */\n",
       "\n",
       "/* Colorize estimator box */\n",
       "#sk-container-id-1 div.sk-estimator input.sk-toggleable__control:checked~label.sk-toggleable__label {\n",
       "  /* unfitted */\n",
       "  background-color: var(--sklearn-color-unfitted-level-2);\n",
       "}\n",
       "\n",
       "#sk-container-id-1 div.sk-estimator.fitted input.sk-toggleable__control:checked~label.sk-toggleable__label {\n",
       "  /* fitted */\n",
       "  background-color: var(--sklearn-color-fitted-level-2);\n",
       "}\n",
       "\n",
       "#sk-container-id-1 div.sk-label label.sk-toggleable__label,\n",
       "#sk-container-id-1 div.sk-label label {\n",
       "  /* The background is the default theme color */\n",
       "  color: var(--sklearn-color-text-on-default-background);\n",
       "}\n",
       "\n",
       "/* On hover, darken the color of the background */\n",
       "#sk-container-id-1 div.sk-label:hover label.sk-toggleable__label {\n",
       "  color: var(--sklearn-color-text);\n",
       "  background-color: var(--sklearn-color-unfitted-level-2);\n",
       "}\n",
       "\n",
       "/* Label box, darken color on hover, fitted */\n",
       "#sk-container-id-1 div.sk-label.fitted:hover label.sk-toggleable__label.fitted {\n",
       "  color: var(--sklearn-color-text);\n",
       "  background-color: var(--sklearn-color-fitted-level-2);\n",
       "}\n",
       "\n",
       "/* Estimator label */\n",
       "\n",
       "#sk-container-id-1 div.sk-label label {\n",
       "  font-family: monospace;\n",
       "  font-weight: bold;\n",
       "  display: inline-block;\n",
       "  line-height: 1.2em;\n",
       "}\n",
       "\n",
       "#sk-container-id-1 div.sk-label-container {\n",
       "  text-align: center;\n",
       "}\n",
       "\n",
       "/* Estimator-specific */\n",
       "#sk-container-id-1 div.sk-estimator {\n",
       "  font-family: monospace;\n",
       "  border: 1px dotted var(--sklearn-color-border-box);\n",
       "  border-radius: 0.25em;\n",
       "  box-sizing: border-box;\n",
       "  margin-bottom: 0.5em;\n",
       "  /* unfitted */\n",
       "  background-color: var(--sklearn-color-unfitted-level-0);\n",
       "}\n",
       "\n",
       "#sk-container-id-1 div.sk-estimator.fitted {\n",
       "  /* fitted */\n",
       "  background-color: var(--sklearn-color-fitted-level-0);\n",
       "}\n",
       "\n",
       "/* on hover */\n",
       "#sk-container-id-1 div.sk-estimator:hover {\n",
       "  /* unfitted */\n",
       "  background-color: var(--sklearn-color-unfitted-level-2);\n",
       "}\n",
       "\n",
       "#sk-container-id-1 div.sk-estimator.fitted:hover {\n",
       "  /* fitted */\n",
       "  background-color: var(--sklearn-color-fitted-level-2);\n",
       "}\n",
       "\n",
       "/* Specification for estimator info (e.g. \"i\" and \"?\") */\n",
       "\n",
       "/* Common style for \"i\" and \"?\" */\n",
       "\n",
       ".sk-estimator-doc-link,\n",
       "a:link.sk-estimator-doc-link,\n",
       "a:visited.sk-estimator-doc-link {\n",
       "  float: right;\n",
       "  font-size: smaller;\n",
       "  line-height: 1em;\n",
       "  font-family: monospace;\n",
       "  background-color: var(--sklearn-color-background);\n",
       "  border-radius: 1em;\n",
       "  height: 1em;\n",
       "  width: 1em;\n",
       "  text-decoration: none !important;\n",
       "  margin-left: 0.5em;\n",
       "  text-align: center;\n",
       "  /* unfitted */\n",
       "  border: var(--sklearn-color-unfitted-level-1) 1pt solid;\n",
       "  color: var(--sklearn-color-unfitted-level-1);\n",
       "}\n",
       "\n",
       ".sk-estimator-doc-link.fitted,\n",
       "a:link.sk-estimator-doc-link.fitted,\n",
       "a:visited.sk-estimator-doc-link.fitted {\n",
       "  /* fitted */\n",
       "  border: var(--sklearn-color-fitted-level-1) 1pt solid;\n",
       "  color: var(--sklearn-color-fitted-level-1);\n",
       "}\n",
       "\n",
       "/* On hover */\n",
       "div.sk-estimator:hover .sk-estimator-doc-link:hover,\n",
       ".sk-estimator-doc-link:hover,\n",
       "div.sk-label-container:hover .sk-estimator-doc-link:hover,\n",
       ".sk-estimator-doc-link:hover {\n",
       "  /* unfitted */\n",
       "  background-color: var(--sklearn-color-unfitted-level-3);\n",
       "  color: var(--sklearn-color-background);\n",
       "  text-decoration: none;\n",
       "}\n",
       "\n",
       "div.sk-estimator.fitted:hover .sk-estimator-doc-link.fitted:hover,\n",
       ".sk-estimator-doc-link.fitted:hover,\n",
       "div.sk-label-container:hover .sk-estimator-doc-link.fitted:hover,\n",
       ".sk-estimator-doc-link.fitted:hover {\n",
       "  /* fitted */\n",
       "  background-color: var(--sklearn-color-fitted-level-3);\n",
       "  color: var(--sklearn-color-background);\n",
       "  text-decoration: none;\n",
       "}\n",
       "\n",
       "/* Span, style for the box shown on hovering the info icon */\n",
       ".sk-estimator-doc-link span {\n",
       "  display: none;\n",
       "  z-index: 9999;\n",
       "  position: relative;\n",
       "  font-weight: normal;\n",
       "  right: .2ex;\n",
       "  padding: .5ex;\n",
       "  margin: .5ex;\n",
       "  width: min-content;\n",
       "  min-width: 20ex;\n",
       "  max-width: 50ex;\n",
       "  color: var(--sklearn-color-text);\n",
       "  box-shadow: 2pt 2pt 4pt #999;\n",
       "  /* unfitted */\n",
       "  background: var(--sklearn-color-unfitted-level-0);\n",
       "  border: .5pt solid var(--sklearn-color-unfitted-level-3);\n",
       "}\n",
       "\n",
       ".sk-estimator-doc-link.fitted span {\n",
       "  /* fitted */\n",
       "  background: var(--sklearn-color-fitted-level-0);\n",
       "  border: var(--sklearn-color-fitted-level-3);\n",
       "}\n",
       "\n",
       ".sk-estimator-doc-link:hover span {\n",
       "  display: block;\n",
       "}\n",
       "\n",
       "/* \"?\"-specific style due to the `<a>` HTML tag */\n",
       "\n",
       "#sk-container-id-1 a.estimator_doc_link {\n",
       "  float: right;\n",
       "  font-size: 1rem;\n",
       "  line-height: 1em;\n",
       "  font-family: monospace;\n",
       "  background-color: var(--sklearn-color-background);\n",
       "  border-radius: 1rem;\n",
       "  height: 1rem;\n",
       "  width: 1rem;\n",
       "  text-decoration: none;\n",
       "  /* unfitted */\n",
       "  color: var(--sklearn-color-unfitted-level-1);\n",
       "  border: var(--sklearn-color-unfitted-level-1) 1pt solid;\n",
       "}\n",
       "\n",
       "#sk-container-id-1 a.estimator_doc_link.fitted {\n",
       "  /* fitted */\n",
       "  border: var(--sklearn-color-fitted-level-1) 1pt solid;\n",
       "  color: var(--sklearn-color-fitted-level-1);\n",
       "}\n",
       "\n",
       "/* On hover */\n",
       "#sk-container-id-1 a.estimator_doc_link:hover {\n",
       "  /* unfitted */\n",
       "  background-color: var(--sklearn-color-unfitted-level-3);\n",
       "  color: var(--sklearn-color-background);\n",
       "  text-decoration: none;\n",
       "}\n",
       "\n",
       "#sk-container-id-1 a.estimator_doc_link.fitted:hover {\n",
       "  /* fitted */\n",
       "  background-color: var(--sklearn-color-fitted-level-3);\n",
       "}\n",
       "</style><div id=\"sk-container-id-1\" class=\"sk-top-container\"><div class=\"sk-text-repr-fallback\"><pre>ColumnTransformer(transformers=[(&#x27;num&#x27;,\n",
       "                                 Pipeline(steps=[(&#x27;minmaxscaler&#x27;,\n",
       "                                                  MinMaxScaler())]),\n",
       "                                 Index([&#x27;amount_tsh&#x27;, &#x27;gps_height&#x27;, &#x27;longitude&#x27;, &#x27;latitude&#x27;, &#x27;district_code&#x27;,\n",
       "       &#x27;population&#x27;, &#x27;operation_time&#x27;],\n",
       "      dtype=&#x27;object&#x27;)),\n",
       "                                (&#x27;cat&#x27;,\n",
       "                                 Pipeline(steps=[(&#x27;onehotencoder&#x27;,\n",
       "                                                  OneHotEncoder(handle_unknown=&#x27;ignore&#x27;))]),\n",
       "                                 Index([&#x27;basin&#x27;, &#x27;region&#x27;, &#x27;ward&#x27;, &#x27;scheme_management&#x27;, &#x27;extraction_type&#x27;,\n",
       "       &#x27;management&#x27;, &#x27;payment_type&#x27;, &#x27;water_quality&#x27;, &#x27;quantity&#x27;, &#x27;source&#x27;,\n",
       "       &#x27;waterpoint_type&#x27;, &#x27;top_installer&#x27;, &#x27;top_funders&#x27;],\n",
       "      dtype=&#x27;object&#x27;))])</pre><b>In a Jupyter environment, please rerun this cell to show the HTML representation or trust the notebook. <br />On GitHub, the HTML representation is unable to render, please try loading this page with nbviewer.org.</b></div><div class=\"sk-container\" hidden><div class=\"sk-item sk-dashed-wrapped\"><div class=\"sk-label-container\"><div class=\"sk-label  sk-toggleable\"><input class=\"sk-toggleable__control sk-hidden--visually\" id=\"sk-estimator-id-1\" type=\"checkbox\" ><label for=\"sk-estimator-id-1\" class=\"sk-toggleable__label  sk-toggleable__label-arrow\"><div><div>ColumnTransformer</div></div><div><a class=\"sk-estimator-doc-link \" rel=\"noreferrer\" target=\"_blank\" href=\"https://scikit-learn.org/1.6/modules/generated/sklearn.compose.ColumnTransformer.html\">?<span>Documentation for ColumnTransformer</span></a><span class=\"sk-estimator-doc-link \">i<span>Not fitted</span></span></div></label><div class=\"sk-toggleable__content \"><pre>ColumnTransformer(transformers=[(&#x27;num&#x27;,\n",
       "                                 Pipeline(steps=[(&#x27;minmaxscaler&#x27;,\n",
       "                                                  MinMaxScaler())]),\n",
       "                                 Index([&#x27;amount_tsh&#x27;, &#x27;gps_height&#x27;, &#x27;longitude&#x27;, &#x27;latitude&#x27;, &#x27;district_code&#x27;,\n",
       "       &#x27;population&#x27;, &#x27;operation_time&#x27;],\n",
       "      dtype=&#x27;object&#x27;)),\n",
       "                                (&#x27;cat&#x27;,\n",
       "                                 Pipeline(steps=[(&#x27;onehotencoder&#x27;,\n",
       "                                                  OneHotEncoder(handle_unknown=&#x27;ignore&#x27;))]),\n",
       "                                 Index([&#x27;basin&#x27;, &#x27;region&#x27;, &#x27;ward&#x27;, &#x27;scheme_management&#x27;, &#x27;extraction_type&#x27;,\n",
       "       &#x27;management&#x27;, &#x27;payment_type&#x27;, &#x27;water_quality&#x27;, &#x27;quantity&#x27;, &#x27;source&#x27;,\n",
       "       &#x27;waterpoint_type&#x27;, &#x27;top_installer&#x27;, &#x27;top_funders&#x27;],\n",
       "      dtype=&#x27;object&#x27;))])</pre></div> </div></div><div class=\"sk-parallel\"><div class=\"sk-parallel-item\"><div class=\"sk-item\"><div class=\"sk-label-container\"><div class=\"sk-label  sk-toggleable\"><input class=\"sk-toggleable__control sk-hidden--visually\" id=\"sk-estimator-id-2\" type=\"checkbox\" ><label for=\"sk-estimator-id-2\" class=\"sk-toggleable__label  sk-toggleable__label-arrow\"><div><div>num</div></div></label><div class=\"sk-toggleable__content \"><pre>Index([&#x27;amount_tsh&#x27;, &#x27;gps_height&#x27;, &#x27;longitude&#x27;, &#x27;latitude&#x27;, &#x27;district_code&#x27;,\n",
       "       &#x27;population&#x27;, &#x27;operation_time&#x27;],\n",
       "      dtype=&#x27;object&#x27;)</pre></div> </div></div><div class=\"sk-serial\"><div class=\"sk-item\"><div class=\"sk-serial\"><div class=\"sk-item\"><div class=\"sk-estimator  sk-toggleable\"><input class=\"sk-toggleable__control sk-hidden--visually\" id=\"sk-estimator-id-3\" type=\"checkbox\" ><label for=\"sk-estimator-id-3\" class=\"sk-toggleable__label  sk-toggleable__label-arrow\"><div><div>MinMaxScaler</div></div><div><a class=\"sk-estimator-doc-link \" rel=\"noreferrer\" target=\"_blank\" href=\"https://scikit-learn.org/1.6/modules/generated/sklearn.preprocessing.MinMaxScaler.html\">?<span>Documentation for MinMaxScaler</span></a></div></label><div class=\"sk-toggleable__content \"><pre>MinMaxScaler()</pre></div> </div></div></div></div></div></div></div><div class=\"sk-parallel-item\"><div class=\"sk-item\"><div class=\"sk-label-container\"><div class=\"sk-label  sk-toggleable\"><input class=\"sk-toggleable__control sk-hidden--visually\" id=\"sk-estimator-id-4\" type=\"checkbox\" ><label for=\"sk-estimator-id-4\" class=\"sk-toggleable__label  sk-toggleable__label-arrow\"><div><div>cat</div></div></label><div class=\"sk-toggleable__content \"><pre>Index([&#x27;basin&#x27;, &#x27;region&#x27;, &#x27;ward&#x27;, &#x27;scheme_management&#x27;, &#x27;extraction_type&#x27;,\n",
       "       &#x27;management&#x27;, &#x27;payment_type&#x27;, &#x27;water_quality&#x27;, &#x27;quantity&#x27;, &#x27;source&#x27;,\n",
       "       &#x27;waterpoint_type&#x27;, &#x27;top_installer&#x27;, &#x27;top_funders&#x27;],\n",
       "      dtype=&#x27;object&#x27;)</pre></div> </div></div><div class=\"sk-serial\"><div class=\"sk-item\"><div class=\"sk-serial\"><div class=\"sk-item\"><div class=\"sk-estimator  sk-toggleable\"><input class=\"sk-toggleable__control sk-hidden--visually\" id=\"sk-estimator-id-5\" type=\"checkbox\" ><label for=\"sk-estimator-id-5\" class=\"sk-toggleable__label  sk-toggleable__label-arrow\"><div><div>OneHotEncoder</div></div><div><a class=\"sk-estimator-doc-link \" rel=\"noreferrer\" target=\"_blank\" href=\"https://scikit-learn.org/1.6/modules/generated/sklearn.preprocessing.OneHotEncoder.html\">?<span>Documentation for OneHotEncoder</span></a></div></label><div class=\"sk-toggleable__content \"><pre>OneHotEncoder(handle_unknown=&#x27;ignore&#x27;)</pre></div> </div></div></div></div></div></div></div></div></div></div></div>"
      ],
      "text/plain": [
       "ColumnTransformer(transformers=[('num',\n",
       "                                 Pipeline(steps=[('minmaxscaler',\n",
       "                                                  MinMaxScaler())]),\n",
       "                                 Index(['amount_tsh', 'gps_height', 'longitude', 'latitude', 'district_code',\n",
       "       'population', 'operation_time'],\n",
       "      dtype='object')),\n",
       "                                ('cat',\n",
       "                                 Pipeline(steps=[('onehotencoder',\n",
       "                                                  OneHotEncoder(handle_unknown='ignore'))]),\n",
       "                                 Index(['basin', 'region', 'ward', 'scheme_management', 'extraction_type',\n",
       "       'management', 'payment_type', 'water_quality', 'quantity', 'source',\n",
       "       'waterpoint_type', 'top_installer', 'top_funders'],\n",
       "      dtype='object'))])"
      ]
     },
     "execution_count": 38,
     "metadata": {},
     "output_type": "execute_result"
    }
   ],
   "source": [
    "preprocessor"
   ]
  },
  {
   "cell_type": "code",
   "execution_count": 40,
   "id": "3e384f1c",
   "metadata": {
    "ExecuteTime": {
     "end_time": "2025-03-22T17:10:58.045969Z",
     "start_time": "2025-03-22T17:10:58.022934Z"
    }
   },
   "outputs": [],
   "source": [
    "dt = DecisionTreeClassifier(class_weight='balanced')\n",
    "\n",
    "pipe = make_pipeline(preprocessor,dt)"
   ]
  },
  {
   "cell_type": "code",
   "execution_count": 41,
   "id": "482c9b8c",
   "metadata": {
    "ExecuteTime": {
     "end_time": "2025-03-22T17:11:36.762063Z",
     "start_time": "2025-03-22T17:11:06.384597Z"
    }
   },
   "outputs": [],
   "source": [
    "cv = cross_val_score(pipe, X, y, cv=5, scoring='roc_auc')"
   ]
  },
  {
   "cell_type": "code",
   "execution_count": 42,
   "id": "13482df9",
   "metadata": {
    "ExecuteTime": {
     "end_time": "2025-03-22T17:11:40.366290Z",
     "start_time": "2025-03-22T17:11:40.341754Z"
    }
   },
   "outputs": [
    {
     "data": {
      "text/plain": [
       "0.8186097404944983"
      ]
     },
     "execution_count": 42,
     "metadata": {},
     "output_type": "execute_result"
    }
   ],
   "source": [
    "cv.mean()"
   ]
  },
  {
   "cell_type": "markdown",
   "id": "e711cde0",
   "metadata": {},
   "source": [
    "Random forest"
   ]
  },
  {
   "cell_type": "code",
   "execution_count": 45,
   "id": "eff72238",
   "metadata": {
    "ExecuteTime": {
     "end_time": "2025-03-22T17:13:26.635426Z",
     "start_time": "2025-03-22T17:13:26.622642Z"
    }
   },
   "outputs": [],
   "source": [
    "rf = RandomForestClassifier()\n",
    "pipe = make_pipeline(preprocessor,rf)"
   ]
  },
  {
   "cell_type": "code",
   "execution_count": 46,
   "id": "337e3422",
   "metadata": {
    "ExecuteTime": {
     "end_time": "2025-03-22T17:19:34.781925Z",
     "start_time": "2025-03-22T17:13:34.272032Z"
    }
   },
   "outputs": [
    {
     "data": {
      "text/plain": [
       "0.9235757716628952"
      ]
     },
     "execution_count": 46,
     "metadata": {},
     "output_type": "execute_result"
    }
   ],
   "source": [
    "cv = cross_val_score(pipe, X, y, cv=5, scoring='roc_auc')\n",
    "cv.mean()"
   ]
  },
  {
   "cell_type": "markdown",
   "id": "46bee08b",
   "metadata": {},
   "source": [
    "Best model is Random Forest"
   ]
  },
  {
   "cell_type": "markdown",
   "id": "34491758",
   "metadata": {},
   "source": [
    "# Finetuning"
   ]
  },
  {
   "cell_type": "code",
   "execution_count": 54,
   "id": "1c5c3887",
   "metadata": {
    "ExecuteTime": {
     "end_time": "2025-03-22T17:29:03.582915Z",
     "start_time": "2025-03-22T17:29:03.551696Z"
    },
    "collapsed": true
   },
   "outputs": [
    {
     "data": {
      "text/plain": [
       "('criterion',\n",
       " 'max_depth',\n",
       " 'min_samples_split',\n",
       " 'min_samples_leaf',\n",
       " 'min_weight_fraction_leaf',\n",
       " 'max_features',\n",
       " 'max_leaf_nodes',\n",
       " 'min_impurity_decrease',\n",
       " 'random_state',\n",
       " 'ccp_alpha',\n",
       " 'monotonic_cst')"
      ]
     },
     "execution_count": 54,
     "metadata": {},
     "output_type": "execute_result"
    }
   ],
   "source": [
    "rf.estimator_params"
   ]
  },
  {
   "cell_type": "code",
   "execution_count": 65,
   "id": "7e485dcb",
   "metadata": {
    "ExecuteTime": {
     "end_time": "2025-03-22T17:43:51.518520Z",
     "start_time": "2025-03-22T17:43:51.470893Z"
    },
    "collapsed": true
   },
   "outputs": [
    {
     "data": {
      "text/plain": [
       "{'memory': None,\n",
       " 'steps': [('columntransformer',\n",
       "   ColumnTransformer(transformers=[('num',\n",
       "                                    Pipeline(steps=[('minmaxscaler',\n",
       "                                                     MinMaxScaler())]),\n",
       "                                    Index(['amount_tsh', 'gps_height', 'longitude', 'latitude', 'district_code',\n",
       "          'population', 'operation_time'],\n",
       "         dtype='object')),\n",
       "                                   ('cat',\n",
       "                                    Pipeline(steps=[('onehotencoder',\n",
       "                                                     OneHotEncoder(handle_unknown='ignore'))]),\n",
       "                                    Index(['basin', 'region', 'ward', 'scheme_management', 'extraction_type',\n",
       "          'management', 'payment_type', 'water_quality', 'quantity', 'source',\n",
       "          'waterpoint_type', 'top_installer', 'top_funders'],\n",
       "         dtype='object'))])),\n",
       "  ('randomforestclassifier', RandomForestClassifier())],\n",
       " 'transform_input': None,\n",
       " 'verbose': False,\n",
       " 'columntransformer': ColumnTransformer(transformers=[('num',\n",
       "                                  Pipeline(steps=[('minmaxscaler',\n",
       "                                                   MinMaxScaler())]),\n",
       "                                  Index(['amount_tsh', 'gps_height', 'longitude', 'latitude', 'district_code',\n",
       "        'population', 'operation_time'],\n",
       "       dtype='object')),\n",
       "                                 ('cat',\n",
       "                                  Pipeline(steps=[('onehotencoder',\n",
       "                                                   OneHotEncoder(handle_unknown='ignore'))]),\n",
       "                                  Index(['basin', 'region', 'ward', 'scheme_management', 'extraction_type',\n",
       "        'management', 'payment_type', 'water_quality', 'quantity', 'source',\n",
       "        'waterpoint_type', 'top_installer', 'top_funders'],\n",
       "       dtype='object'))]),\n",
       " 'randomforestclassifier': RandomForestClassifier(),\n",
       " 'columntransformer__force_int_remainder_cols': True,\n",
       " 'columntransformer__n_jobs': None,\n",
       " 'columntransformer__remainder': 'drop',\n",
       " 'columntransformer__sparse_threshold': 0.3,\n",
       " 'columntransformer__transformer_weights': None,\n",
       " 'columntransformer__transformers': [('num',\n",
       "   Pipeline(steps=[('minmaxscaler', MinMaxScaler())]),\n",
       "   Index(['amount_tsh', 'gps_height', 'longitude', 'latitude', 'district_code',\n",
       "          'population', 'operation_time'],\n",
       "         dtype='object')),\n",
       "  ('cat',\n",
       "   Pipeline(steps=[('onehotencoder', OneHotEncoder(handle_unknown='ignore'))]),\n",
       "   Index(['basin', 'region', 'ward', 'scheme_management', 'extraction_type',\n",
       "          'management', 'payment_type', 'water_quality', 'quantity', 'source',\n",
       "          'waterpoint_type', 'top_installer', 'top_funders'],\n",
       "         dtype='object'))],\n",
       " 'columntransformer__verbose': False,\n",
       " 'columntransformer__verbose_feature_names_out': True,\n",
       " 'columntransformer__num': Pipeline(steps=[('minmaxscaler', MinMaxScaler())]),\n",
       " 'columntransformer__cat': Pipeline(steps=[('onehotencoder', OneHotEncoder(handle_unknown='ignore'))]),\n",
       " 'columntransformer__num__memory': None,\n",
       " 'columntransformer__num__steps': [('minmaxscaler', MinMaxScaler())],\n",
       " 'columntransformer__num__transform_input': None,\n",
       " 'columntransformer__num__verbose': False,\n",
       " 'columntransformer__num__minmaxscaler': MinMaxScaler(),\n",
       " 'columntransformer__num__minmaxscaler__clip': False,\n",
       " 'columntransformer__num__minmaxscaler__copy': True,\n",
       " 'columntransformer__num__minmaxscaler__feature_range': (0, 1),\n",
       " 'columntransformer__cat__memory': None,\n",
       " 'columntransformer__cat__steps': [('onehotencoder',\n",
       "   OneHotEncoder(handle_unknown='ignore'))],\n",
       " 'columntransformer__cat__transform_input': None,\n",
       " 'columntransformer__cat__verbose': False,\n",
       " 'columntransformer__cat__onehotencoder': OneHotEncoder(handle_unknown='ignore'),\n",
       " 'columntransformer__cat__onehotencoder__categories': 'auto',\n",
       " 'columntransformer__cat__onehotencoder__drop': None,\n",
       " 'columntransformer__cat__onehotencoder__dtype': numpy.float64,\n",
       " 'columntransformer__cat__onehotencoder__feature_name_combiner': 'concat',\n",
       " 'columntransformer__cat__onehotencoder__handle_unknown': 'ignore',\n",
       " 'columntransformer__cat__onehotencoder__max_categories': None,\n",
       " 'columntransformer__cat__onehotencoder__min_frequency': None,\n",
       " 'columntransformer__cat__onehotencoder__sparse_output': True,\n",
       " 'randomforestclassifier__bootstrap': True,\n",
       " 'randomforestclassifier__ccp_alpha': 0.0,\n",
       " 'randomforestclassifier__class_weight': None,\n",
       " 'randomforestclassifier__criterion': 'gini',\n",
       " 'randomforestclassifier__max_depth': None,\n",
       " 'randomforestclassifier__max_features': 'sqrt',\n",
       " 'randomforestclassifier__max_leaf_nodes': None,\n",
       " 'randomforestclassifier__max_samples': None,\n",
       " 'randomforestclassifier__min_impurity_decrease': 0.0,\n",
       " 'randomforestclassifier__min_samples_leaf': 1,\n",
       " 'randomforestclassifier__min_samples_split': 2,\n",
       " 'randomforestclassifier__min_weight_fraction_leaf': 0.0,\n",
       " 'randomforestclassifier__monotonic_cst': None,\n",
       " 'randomforestclassifier__n_estimators': 100,\n",
       " 'randomforestclassifier__n_jobs': None,\n",
       " 'randomforestclassifier__oob_score': False,\n",
       " 'randomforestclassifier__random_state': None,\n",
       " 'randomforestclassifier__verbose': 0,\n",
       " 'randomforestclassifier__warm_start': False}"
      ]
     },
     "execution_count": 65,
     "metadata": {},
     "output_type": "execute_result"
    }
   ],
   "source": [
    "pipe.get_params()"
   ]
  },
  {
   "cell_type": "code",
   "execution_count": 76,
   "id": "505d8f68",
   "metadata": {
    "ExecuteTime": {
     "end_time": "2025-03-22T17:49:40.823151Z",
     "start_time": "2025-03-22T17:49:40.807585Z"
    }
   },
   "outputs": [],
   "source": [
    "param_grid = {'randomforestclassifier__n_estimators': [10, 50, 100],  \n",
    "    'randomforestclassifier__max_depth': [None, 10, 20],  \n",
    "    'randomforestclassifier__min_samples_split': [2, 5, 10]}"
   ]
  },
  {
   "cell_type": "code",
   "execution_count": 77,
   "id": "842fb8df",
   "metadata": {
    "ExecuteTime": {
     "end_time": "2025-03-22T17:49:41.286976Z",
     "start_time": "2025-03-22T17:49:41.271793Z"
    }
   },
   "outputs": [],
   "source": [
    "grid_search = GridSearchCV(pipe,param_grid,n_jobs=1,cv=5,scoring='roc_auc')"
   ]
  },
  {
   "cell_type": "code",
   "execution_count": 78,
   "id": "f9f22e25",
   "metadata": {
    "ExecuteTime": {
     "end_time": "2025-03-22T17:49:41.812535Z",
     "start_time": "2025-03-22T17:49:41.764616Z"
    }
   },
   "outputs": [],
   "source": [
    "X_train, X_test, y_train, y_test = train_test_split(X, y, test_size=0.2, random_state=42)"
   ]
  },
  {
   "cell_type": "code",
   "execution_count": 79,
   "id": "9b5a4787",
   "metadata": {
    "ExecuteTime": {
     "end_time": "2025-03-22T18:10:51.907789Z",
     "start_time": "2025-03-22T17:49:42.295780Z"
    }
   },
   "outputs": [
    {
     "data": {
      "text/html": [
       "<style>#sk-container-id-4 {\n",
       "  /* Definition of color scheme common for light and dark mode */\n",
       "  --sklearn-color-text: #000;\n",
       "  --sklearn-color-text-muted: #666;\n",
       "  --sklearn-color-line: gray;\n",
       "  /* Definition of color scheme for unfitted estimators */\n",
       "  --sklearn-color-unfitted-level-0: #fff5e6;\n",
       "  --sklearn-color-unfitted-level-1: #f6e4d2;\n",
       "  --sklearn-color-unfitted-level-2: #ffe0b3;\n",
       "  --sklearn-color-unfitted-level-3: chocolate;\n",
       "  /* Definition of color scheme for fitted estimators */\n",
       "  --sklearn-color-fitted-level-0: #f0f8ff;\n",
       "  --sklearn-color-fitted-level-1: #d4ebff;\n",
       "  --sklearn-color-fitted-level-2: #b3dbfd;\n",
       "  --sklearn-color-fitted-level-3: cornflowerblue;\n",
       "\n",
       "  /* Specific color for light theme */\n",
       "  --sklearn-color-text-on-default-background: var(--sg-text-color, var(--theme-code-foreground, var(--jp-content-font-color1, black)));\n",
       "  --sklearn-color-background: var(--sg-background-color, var(--theme-background, var(--jp-layout-color0, white)));\n",
       "  --sklearn-color-border-box: var(--sg-text-color, var(--theme-code-foreground, var(--jp-content-font-color1, black)));\n",
       "  --sklearn-color-icon: #696969;\n",
       "\n",
       "  @media (prefers-color-scheme: dark) {\n",
       "    /* Redefinition of color scheme for dark theme */\n",
       "    --sklearn-color-text-on-default-background: var(--sg-text-color, var(--theme-code-foreground, var(--jp-content-font-color1, white)));\n",
       "    --sklearn-color-background: var(--sg-background-color, var(--theme-background, var(--jp-layout-color0, #111)));\n",
       "    --sklearn-color-border-box: var(--sg-text-color, var(--theme-code-foreground, var(--jp-content-font-color1, white)));\n",
       "    --sklearn-color-icon: #878787;\n",
       "  }\n",
       "}\n",
       "\n",
       "#sk-container-id-4 {\n",
       "  color: var(--sklearn-color-text);\n",
       "}\n",
       "\n",
       "#sk-container-id-4 pre {\n",
       "  padding: 0;\n",
       "}\n",
       "\n",
       "#sk-container-id-4 input.sk-hidden--visually {\n",
       "  border: 0;\n",
       "  clip: rect(1px 1px 1px 1px);\n",
       "  clip: rect(1px, 1px, 1px, 1px);\n",
       "  height: 1px;\n",
       "  margin: -1px;\n",
       "  overflow: hidden;\n",
       "  padding: 0;\n",
       "  position: absolute;\n",
       "  width: 1px;\n",
       "}\n",
       "\n",
       "#sk-container-id-4 div.sk-dashed-wrapped {\n",
       "  border: 1px dashed var(--sklearn-color-line);\n",
       "  margin: 0 0.4em 0.5em 0.4em;\n",
       "  box-sizing: border-box;\n",
       "  padding-bottom: 0.4em;\n",
       "  background-color: var(--sklearn-color-background);\n",
       "}\n",
       "\n",
       "#sk-container-id-4 div.sk-container {\n",
       "  /* jupyter's `normalize.less` sets `[hidden] { display: none; }`\n",
       "     but bootstrap.min.css set `[hidden] { display: none !important; }`\n",
       "     so we also need the `!important` here to be able to override the\n",
       "     default hidden behavior on the sphinx rendered scikit-learn.org.\n",
       "     See: https://github.com/scikit-learn/scikit-learn/issues/21755 */\n",
       "  display: inline-block !important;\n",
       "  position: relative;\n",
       "}\n",
       "\n",
       "#sk-container-id-4 div.sk-text-repr-fallback {\n",
       "  display: none;\n",
       "}\n",
       "\n",
       "div.sk-parallel-item,\n",
       "div.sk-serial,\n",
       "div.sk-item {\n",
       "  /* draw centered vertical line to link estimators */\n",
       "  background-image: linear-gradient(var(--sklearn-color-text-on-default-background), var(--sklearn-color-text-on-default-background));\n",
       "  background-size: 2px 100%;\n",
       "  background-repeat: no-repeat;\n",
       "  background-position: center center;\n",
       "}\n",
       "\n",
       "/* Parallel-specific style estimator block */\n",
       "\n",
       "#sk-container-id-4 div.sk-parallel-item::after {\n",
       "  content: \"\";\n",
       "  width: 100%;\n",
       "  border-bottom: 2px solid var(--sklearn-color-text-on-default-background);\n",
       "  flex-grow: 1;\n",
       "}\n",
       "\n",
       "#sk-container-id-4 div.sk-parallel {\n",
       "  display: flex;\n",
       "  align-items: stretch;\n",
       "  justify-content: center;\n",
       "  background-color: var(--sklearn-color-background);\n",
       "  position: relative;\n",
       "}\n",
       "\n",
       "#sk-container-id-4 div.sk-parallel-item {\n",
       "  display: flex;\n",
       "  flex-direction: column;\n",
       "}\n",
       "\n",
       "#sk-container-id-4 div.sk-parallel-item:first-child::after {\n",
       "  align-self: flex-end;\n",
       "  width: 50%;\n",
       "}\n",
       "\n",
       "#sk-container-id-4 div.sk-parallel-item:last-child::after {\n",
       "  align-self: flex-start;\n",
       "  width: 50%;\n",
       "}\n",
       "\n",
       "#sk-container-id-4 div.sk-parallel-item:only-child::after {\n",
       "  width: 0;\n",
       "}\n",
       "\n",
       "/* Serial-specific style estimator block */\n",
       "\n",
       "#sk-container-id-4 div.sk-serial {\n",
       "  display: flex;\n",
       "  flex-direction: column;\n",
       "  align-items: center;\n",
       "  background-color: var(--sklearn-color-background);\n",
       "  padding-right: 1em;\n",
       "  padding-left: 1em;\n",
       "}\n",
       "\n",
       "\n",
       "/* Toggleable style: style used for estimator/Pipeline/ColumnTransformer box that is\n",
       "clickable and can be expanded/collapsed.\n",
       "- Pipeline and ColumnTransformer use this feature and define the default style\n",
       "- Estimators will overwrite some part of the style using the `sk-estimator` class\n",
       "*/\n",
       "\n",
       "/* Pipeline and ColumnTransformer style (default) */\n",
       "\n",
       "#sk-container-id-4 div.sk-toggleable {\n",
       "  /* Default theme specific background. It is overwritten whether we have a\n",
       "  specific estimator or a Pipeline/ColumnTransformer */\n",
       "  background-color: var(--sklearn-color-background);\n",
       "}\n",
       "\n",
       "/* Toggleable label */\n",
       "#sk-container-id-4 label.sk-toggleable__label {\n",
       "  cursor: pointer;\n",
       "  display: flex;\n",
       "  width: 100%;\n",
       "  margin-bottom: 0;\n",
       "  padding: 0.5em;\n",
       "  box-sizing: border-box;\n",
       "  text-align: center;\n",
       "  align-items: start;\n",
       "  justify-content: space-between;\n",
       "  gap: 0.5em;\n",
       "}\n",
       "\n",
       "#sk-container-id-4 label.sk-toggleable__label .caption {\n",
       "  font-size: 0.6rem;\n",
       "  font-weight: lighter;\n",
       "  color: var(--sklearn-color-text-muted);\n",
       "}\n",
       "\n",
       "#sk-container-id-4 label.sk-toggleable__label-arrow:before {\n",
       "  /* Arrow on the left of the label */\n",
       "  content: \"▸\";\n",
       "  float: left;\n",
       "  margin-right: 0.25em;\n",
       "  color: var(--sklearn-color-icon);\n",
       "}\n",
       "\n",
       "#sk-container-id-4 label.sk-toggleable__label-arrow:hover:before {\n",
       "  color: var(--sklearn-color-text);\n",
       "}\n",
       "\n",
       "/* Toggleable content - dropdown */\n",
       "\n",
       "#sk-container-id-4 div.sk-toggleable__content {\n",
       "  max-height: 0;\n",
       "  max-width: 0;\n",
       "  overflow: hidden;\n",
       "  text-align: left;\n",
       "  /* unfitted */\n",
       "  background-color: var(--sklearn-color-unfitted-level-0);\n",
       "}\n",
       "\n",
       "#sk-container-id-4 div.sk-toggleable__content.fitted {\n",
       "  /* fitted */\n",
       "  background-color: var(--sklearn-color-fitted-level-0);\n",
       "}\n",
       "\n",
       "#sk-container-id-4 div.sk-toggleable__content pre {\n",
       "  margin: 0.2em;\n",
       "  border-radius: 0.25em;\n",
       "  color: var(--sklearn-color-text);\n",
       "  /* unfitted */\n",
       "  background-color: var(--sklearn-color-unfitted-level-0);\n",
       "}\n",
       "\n",
       "#sk-container-id-4 div.sk-toggleable__content.fitted pre {\n",
       "  /* unfitted */\n",
       "  background-color: var(--sklearn-color-fitted-level-0);\n",
       "}\n",
       "\n",
       "#sk-container-id-4 input.sk-toggleable__control:checked~div.sk-toggleable__content {\n",
       "  /* Expand drop-down */\n",
       "  max-height: 200px;\n",
       "  max-width: 100%;\n",
       "  overflow: auto;\n",
       "}\n",
       "\n",
       "#sk-container-id-4 input.sk-toggleable__control:checked~label.sk-toggleable__label-arrow:before {\n",
       "  content: \"▾\";\n",
       "}\n",
       "\n",
       "/* Pipeline/ColumnTransformer-specific style */\n",
       "\n",
       "#sk-container-id-4 div.sk-label input.sk-toggleable__control:checked~label.sk-toggleable__label {\n",
       "  color: var(--sklearn-color-text);\n",
       "  background-color: var(--sklearn-color-unfitted-level-2);\n",
       "}\n",
       "\n",
       "#sk-container-id-4 div.sk-label.fitted input.sk-toggleable__control:checked~label.sk-toggleable__label {\n",
       "  background-color: var(--sklearn-color-fitted-level-2);\n",
       "}\n",
       "\n",
       "/* Estimator-specific style */\n",
       "\n",
       "/* Colorize estimator box */\n",
       "#sk-container-id-4 div.sk-estimator input.sk-toggleable__control:checked~label.sk-toggleable__label {\n",
       "  /* unfitted */\n",
       "  background-color: var(--sklearn-color-unfitted-level-2);\n",
       "}\n",
       "\n",
       "#sk-container-id-4 div.sk-estimator.fitted input.sk-toggleable__control:checked~label.sk-toggleable__label {\n",
       "  /* fitted */\n",
       "  background-color: var(--sklearn-color-fitted-level-2);\n",
       "}\n",
       "\n",
       "#sk-container-id-4 div.sk-label label.sk-toggleable__label,\n",
       "#sk-container-id-4 div.sk-label label {\n",
       "  /* The background is the default theme color */\n",
       "  color: var(--sklearn-color-text-on-default-background);\n",
       "}\n",
       "\n",
       "/* On hover, darken the color of the background */\n",
       "#sk-container-id-4 div.sk-label:hover label.sk-toggleable__label {\n",
       "  color: var(--sklearn-color-text);\n",
       "  background-color: var(--sklearn-color-unfitted-level-2);\n",
       "}\n",
       "\n",
       "/* Label box, darken color on hover, fitted */\n",
       "#sk-container-id-4 div.sk-label.fitted:hover label.sk-toggleable__label.fitted {\n",
       "  color: var(--sklearn-color-text);\n",
       "  background-color: var(--sklearn-color-fitted-level-2);\n",
       "}\n",
       "\n",
       "/* Estimator label */\n",
       "\n",
       "#sk-container-id-4 div.sk-label label {\n",
       "  font-family: monospace;\n",
       "  font-weight: bold;\n",
       "  display: inline-block;\n",
       "  line-height: 1.2em;\n",
       "}\n",
       "\n",
       "#sk-container-id-4 div.sk-label-container {\n",
       "  text-align: center;\n",
       "}\n",
       "\n",
       "/* Estimator-specific */\n",
       "#sk-container-id-4 div.sk-estimator {\n",
       "  font-family: monospace;\n",
       "  border: 1px dotted var(--sklearn-color-border-box);\n",
       "  border-radius: 0.25em;\n",
       "  box-sizing: border-box;\n",
       "  margin-bottom: 0.5em;\n",
       "  /* unfitted */\n",
       "  background-color: var(--sklearn-color-unfitted-level-0);\n",
       "}\n",
       "\n",
       "#sk-container-id-4 div.sk-estimator.fitted {\n",
       "  /* fitted */\n",
       "  background-color: var(--sklearn-color-fitted-level-0);\n",
       "}\n",
       "\n",
       "/* on hover */\n",
       "#sk-container-id-4 div.sk-estimator:hover {\n",
       "  /* unfitted */\n",
       "  background-color: var(--sklearn-color-unfitted-level-2);\n",
       "}\n",
       "\n",
       "#sk-container-id-4 div.sk-estimator.fitted:hover {\n",
       "  /* fitted */\n",
       "  background-color: var(--sklearn-color-fitted-level-2);\n",
       "}\n",
       "\n",
       "/* Specification for estimator info (e.g. \"i\" and \"?\") */\n",
       "\n",
       "/* Common style for \"i\" and \"?\" */\n",
       "\n",
       ".sk-estimator-doc-link,\n",
       "a:link.sk-estimator-doc-link,\n",
       "a:visited.sk-estimator-doc-link {\n",
       "  float: right;\n",
       "  font-size: smaller;\n",
       "  line-height: 1em;\n",
       "  font-family: monospace;\n",
       "  background-color: var(--sklearn-color-background);\n",
       "  border-radius: 1em;\n",
       "  height: 1em;\n",
       "  width: 1em;\n",
       "  text-decoration: none !important;\n",
       "  margin-left: 0.5em;\n",
       "  text-align: center;\n",
       "  /* unfitted */\n",
       "  border: var(--sklearn-color-unfitted-level-1) 1pt solid;\n",
       "  color: var(--sklearn-color-unfitted-level-1);\n",
       "}\n",
       "\n",
       ".sk-estimator-doc-link.fitted,\n",
       "a:link.sk-estimator-doc-link.fitted,\n",
       "a:visited.sk-estimator-doc-link.fitted {\n",
       "  /* fitted */\n",
       "  border: var(--sklearn-color-fitted-level-1) 1pt solid;\n",
       "  color: var(--sklearn-color-fitted-level-1);\n",
       "}\n",
       "\n",
       "/* On hover */\n",
       "div.sk-estimator:hover .sk-estimator-doc-link:hover,\n",
       ".sk-estimator-doc-link:hover,\n",
       "div.sk-label-container:hover .sk-estimator-doc-link:hover,\n",
       ".sk-estimator-doc-link:hover {\n",
       "  /* unfitted */\n",
       "  background-color: var(--sklearn-color-unfitted-level-3);\n",
       "  color: var(--sklearn-color-background);\n",
       "  text-decoration: none;\n",
       "}\n",
       "\n",
       "div.sk-estimator.fitted:hover .sk-estimator-doc-link.fitted:hover,\n",
       ".sk-estimator-doc-link.fitted:hover,\n",
       "div.sk-label-container:hover .sk-estimator-doc-link.fitted:hover,\n",
       ".sk-estimator-doc-link.fitted:hover {\n",
       "  /* fitted */\n",
       "  background-color: var(--sklearn-color-fitted-level-3);\n",
       "  color: var(--sklearn-color-background);\n",
       "  text-decoration: none;\n",
       "}\n",
       "\n",
       "/* Span, style for the box shown on hovering the info icon */\n",
       ".sk-estimator-doc-link span {\n",
       "  display: none;\n",
       "  z-index: 9999;\n",
       "  position: relative;\n",
       "  font-weight: normal;\n",
       "  right: .2ex;\n",
       "  padding: .5ex;\n",
       "  margin: .5ex;\n",
       "  width: min-content;\n",
       "  min-width: 20ex;\n",
       "  max-width: 50ex;\n",
       "  color: var(--sklearn-color-text);\n",
       "  box-shadow: 2pt 2pt 4pt #999;\n",
       "  /* unfitted */\n",
       "  background: var(--sklearn-color-unfitted-level-0);\n",
       "  border: .5pt solid var(--sklearn-color-unfitted-level-3);\n",
       "}\n",
       "\n",
       ".sk-estimator-doc-link.fitted span {\n",
       "  /* fitted */\n",
       "  background: var(--sklearn-color-fitted-level-0);\n",
       "  border: var(--sklearn-color-fitted-level-3);\n",
       "}\n",
       "\n",
       ".sk-estimator-doc-link:hover span {\n",
       "  display: block;\n",
       "}\n",
       "\n",
       "/* \"?\"-specific style due to the `<a>` HTML tag */\n",
       "\n",
       "#sk-container-id-4 a.estimator_doc_link {\n",
       "  float: right;\n",
       "  font-size: 1rem;\n",
       "  line-height: 1em;\n",
       "  font-family: monospace;\n",
       "  background-color: var(--sklearn-color-background);\n",
       "  border-radius: 1rem;\n",
       "  height: 1rem;\n",
       "  width: 1rem;\n",
       "  text-decoration: none;\n",
       "  /* unfitted */\n",
       "  color: var(--sklearn-color-unfitted-level-1);\n",
       "  border: var(--sklearn-color-unfitted-level-1) 1pt solid;\n",
       "}\n",
       "\n",
       "#sk-container-id-4 a.estimator_doc_link.fitted {\n",
       "  /* fitted */\n",
       "  border: var(--sklearn-color-fitted-level-1) 1pt solid;\n",
       "  color: var(--sklearn-color-fitted-level-1);\n",
       "}\n",
       "\n",
       "/* On hover */\n",
       "#sk-container-id-4 a.estimator_doc_link:hover {\n",
       "  /* unfitted */\n",
       "  background-color: var(--sklearn-color-unfitted-level-3);\n",
       "  color: var(--sklearn-color-background);\n",
       "  text-decoration: none;\n",
       "}\n",
       "\n",
       "#sk-container-id-4 a.estimator_doc_link.fitted:hover {\n",
       "  /* fitted */\n",
       "  background-color: var(--sklearn-color-fitted-level-3);\n",
       "}\n",
       "</style><div id=\"sk-container-id-4\" class=\"sk-top-container\"><div class=\"sk-text-repr-fallback\"><pre>GridSearchCV(cv=5,\n",
       "             estimator=Pipeline(steps=[(&#x27;columntransformer&#x27;,\n",
       "                                        ColumnTransformer(transformers=[(&#x27;num&#x27;,\n",
       "                                                                         Pipeline(steps=[(&#x27;minmaxscaler&#x27;,\n",
       "                                                                                          MinMaxScaler())]),\n",
       "                                                                         Index([&#x27;amount_tsh&#x27;, &#x27;gps_height&#x27;, &#x27;longitude&#x27;, &#x27;latitude&#x27;, &#x27;district_code&#x27;,\n",
       "       &#x27;population&#x27;, &#x27;operation_time&#x27;],\n",
       "      dtype=&#x27;object&#x27;)),\n",
       "                                                                        (&#x27;cat&#x27;,\n",
       "                                                                         Pipeline(steps=[(&#x27;onehotencoder&#x27;,\n",
       "                                                                                          OneHotEncoder(handle_unknown=&#x27;ignore...\n",
       "       &#x27;management&#x27;, &#x27;payment_type&#x27;, &#x27;water_quality&#x27;, &#x27;quantity&#x27;, &#x27;source&#x27;,\n",
       "       &#x27;waterpoint_type&#x27;, &#x27;top_installer&#x27;, &#x27;top_funders&#x27;],\n",
       "      dtype=&#x27;object&#x27;))])),\n",
       "                                       (&#x27;randomforestclassifier&#x27;,\n",
       "                                        RandomForestClassifier())]),\n",
       "             n_jobs=1,\n",
       "             param_grid={&#x27;randomforestclassifier__max_depth&#x27;: [None, 10, 20],\n",
       "                         &#x27;randomforestclassifier__min_samples_split&#x27;: [2, 5,\n",
       "                                                                       10],\n",
       "                         &#x27;randomforestclassifier__n_estimators&#x27;: [10, 50, 100]},\n",
       "             scoring=&#x27;roc_auc&#x27;)</pre><b>In a Jupyter environment, please rerun this cell to show the HTML representation or trust the notebook. <br />On GitHub, the HTML representation is unable to render, please try loading this page with nbviewer.org.</b></div><div class=\"sk-container\" hidden><div class=\"sk-item sk-dashed-wrapped\"><div class=\"sk-label-container\"><div class=\"sk-label fitted sk-toggleable\"><input class=\"sk-toggleable__control sk-hidden--visually\" id=\"sk-estimator-id-15\" type=\"checkbox\" ><label for=\"sk-estimator-id-15\" class=\"sk-toggleable__label fitted sk-toggleable__label-arrow\"><div><div>GridSearchCV</div></div><div><a class=\"sk-estimator-doc-link fitted\" rel=\"noreferrer\" target=\"_blank\" href=\"https://scikit-learn.org/1.6/modules/generated/sklearn.model_selection.GridSearchCV.html\">?<span>Documentation for GridSearchCV</span></a><span class=\"sk-estimator-doc-link fitted\">i<span>Fitted</span></span></div></label><div class=\"sk-toggleable__content fitted\"><pre>GridSearchCV(cv=5,\n",
       "             estimator=Pipeline(steps=[(&#x27;columntransformer&#x27;,\n",
       "                                        ColumnTransformer(transformers=[(&#x27;num&#x27;,\n",
       "                                                                         Pipeline(steps=[(&#x27;minmaxscaler&#x27;,\n",
       "                                                                                          MinMaxScaler())]),\n",
       "                                                                         Index([&#x27;amount_tsh&#x27;, &#x27;gps_height&#x27;, &#x27;longitude&#x27;, &#x27;latitude&#x27;, &#x27;district_code&#x27;,\n",
       "       &#x27;population&#x27;, &#x27;operation_time&#x27;],\n",
       "      dtype=&#x27;object&#x27;)),\n",
       "                                                                        (&#x27;cat&#x27;,\n",
       "                                                                         Pipeline(steps=[(&#x27;onehotencoder&#x27;,\n",
       "                                                                                          OneHotEncoder(handle_unknown=&#x27;ignore...\n",
       "       &#x27;management&#x27;, &#x27;payment_type&#x27;, &#x27;water_quality&#x27;, &#x27;quantity&#x27;, &#x27;source&#x27;,\n",
       "       &#x27;waterpoint_type&#x27;, &#x27;top_installer&#x27;, &#x27;top_funders&#x27;],\n",
       "      dtype=&#x27;object&#x27;))])),\n",
       "                                       (&#x27;randomforestclassifier&#x27;,\n",
       "                                        RandomForestClassifier())]),\n",
       "             n_jobs=1,\n",
       "             param_grid={&#x27;randomforestclassifier__max_depth&#x27;: [None, 10, 20],\n",
       "                         &#x27;randomforestclassifier__min_samples_split&#x27;: [2, 5,\n",
       "                                                                       10],\n",
       "                         &#x27;randomforestclassifier__n_estimators&#x27;: [10, 50, 100]},\n",
       "             scoring=&#x27;roc_auc&#x27;)</pre></div> </div></div><div class=\"sk-parallel\"><div class=\"sk-parallel-item\"><div class=\"sk-item\"><div class=\"sk-label-container\"><div class=\"sk-label fitted sk-toggleable\"><input class=\"sk-toggleable__control sk-hidden--visually\" id=\"sk-estimator-id-16\" type=\"checkbox\" ><label for=\"sk-estimator-id-16\" class=\"sk-toggleable__label fitted sk-toggleable__label-arrow\"><div><div>best_estimator_: Pipeline</div></div></label><div class=\"sk-toggleable__content fitted\"><pre>Pipeline(steps=[(&#x27;columntransformer&#x27;,\n",
       "                 ColumnTransformer(transformers=[(&#x27;num&#x27;,\n",
       "                                                  Pipeline(steps=[(&#x27;minmaxscaler&#x27;,\n",
       "                                                                   MinMaxScaler())]),\n",
       "                                                  Index([&#x27;amount_tsh&#x27;, &#x27;gps_height&#x27;, &#x27;longitude&#x27;, &#x27;latitude&#x27;, &#x27;district_code&#x27;,\n",
       "       &#x27;population&#x27;, &#x27;operation_time&#x27;],\n",
       "      dtype=&#x27;object&#x27;)),\n",
       "                                                 (&#x27;cat&#x27;,\n",
       "                                                  Pipeline(steps=[(&#x27;onehotencoder&#x27;,\n",
       "                                                                   OneHotEncoder(handle_unknown=&#x27;ignore&#x27;))]),\n",
       "                                                  Index([&#x27;basin&#x27;, &#x27;region&#x27;, &#x27;ward&#x27;, &#x27;scheme_management&#x27;, &#x27;extraction_type&#x27;,\n",
       "       &#x27;management&#x27;, &#x27;payment_type&#x27;, &#x27;water_quality&#x27;, &#x27;quantity&#x27;, &#x27;source&#x27;,\n",
       "       &#x27;waterpoint_type&#x27;, &#x27;top_installer&#x27;, &#x27;top_funders&#x27;],\n",
       "      dtype=&#x27;object&#x27;))])),\n",
       "                (&#x27;randomforestclassifier&#x27;,\n",
       "                 RandomForestClassifier(min_samples_split=5))])</pre></div> </div></div><div class=\"sk-serial\"><div class=\"sk-item\"><div class=\"sk-serial\"><div class=\"sk-item sk-dashed-wrapped\"><div class=\"sk-label-container\"><div class=\"sk-label fitted sk-toggleable\"><input class=\"sk-toggleable__control sk-hidden--visually\" id=\"sk-estimator-id-17\" type=\"checkbox\" ><label for=\"sk-estimator-id-17\" class=\"sk-toggleable__label fitted sk-toggleable__label-arrow\"><div><div>columntransformer: ColumnTransformer</div></div><div><a class=\"sk-estimator-doc-link fitted\" rel=\"noreferrer\" target=\"_blank\" href=\"https://scikit-learn.org/1.6/modules/generated/sklearn.compose.ColumnTransformer.html\">?<span>Documentation for columntransformer: ColumnTransformer</span></a></div></label><div class=\"sk-toggleable__content fitted\"><pre>ColumnTransformer(transformers=[(&#x27;num&#x27;,\n",
       "                                 Pipeline(steps=[(&#x27;minmaxscaler&#x27;,\n",
       "                                                  MinMaxScaler())]),\n",
       "                                 Index([&#x27;amount_tsh&#x27;, &#x27;gps_height&#x27;, &#x27;longitude&#x27;, &#x27;latitude&#x27;, &#x27;district_code&#x27;,\n",
       "       &#x27;population&#x27;, &#x27;operation_time&#x27;],\n",
       "      dtype=&#x27;object&#x27;)),\n",
       "                                (&#x27;cat&#x27;,\n",
       "                                 Pipeline(steps=[(&#x27;onehotencoder&#x27;,\n",
       "                                                  OneHotEncoder(handle_unknown=&#x27;ignore&#x27;))]),\n",
       "                                 Index([&#x27;basin&#x27;, &#x27;region&#x27;, &#x27;ward&#x27;, &#x27;scheme_management&#x27;, &#x27;extraction_type&#x27;,\n",
       "       &#x27;management&#x27;, &#x27;payment_type&#x27;, &#x27;water_quality&#x27;, &#x27;quantity&#x27;, &#x27;source&#x27;,\n",
       "       &#x27;waterpoint_type&#x27;, &#x27;top_installer&#x27;, &#x27;top_funders&#x27;],\n",
       "      dtype=&#x27;object&#x27;))])</pre></div> </div></div><div class=\"sk-parallel\"><div class=\"sk-parallel-item\"><div class=\"sk-item\"><div class=\"sk-label-container\"><div class=\"sk-label fitted sk-toggleable\"><input class=\"sk-toggleable__control sk-hidden--visually\" id=\"sk-estimator-id-18\" type=\"checkbox\" ><label for=\"sk-estimator-id-18\" class=\"sk-toggleable__label fitted sk-toggleable__label-arrow\"><div><div>num</div></div></label><div class=\"sk-toggleable__content fitted\"><pre>Index([&#x27;amount_tsh&#x27;, &#x27;gps_height&#x27;, &#x27;longitude&#x27;, &#x27;latitude&#x27;, &#x27;district_code&#x27;,\n",
       "       &#x27;population&#x27;, &#x27;operation_time&#x27;],\n",
       "      dtype=&#x27;object&#x27;)</pre></div> </div></div><div class=\"sk-serial\"><div class=\"sk-item\"><div class=\"sk-serial\"><div class=\"sk-item\"><div class=\"sk-estimator fitted sk-toggleable\"><input class=\"sk-toggleable__control sk-hidden--visually\" id=\"sk-estimator-id-19\" type=\"checkbox\" ><label for=\"sk-estimator-id-19\" class=\"sk-toggleable__label fitted sk-toggleable__label-arrow\"><div><div>MinMaxScaler</div></div><div><a class=\"sk-estimator-doc-link fitted\" rel=\"noreferrer\" target=\"_blank\" href=\"https://scikit-learn.org/1.6/modules/generated/sklearn.preprocessing.MinMaxScaler.html\">?<span>Documentation for MinMaxScaler</span></a></div></label><div class=\"sk-toggleable__content fitted\"><pre>MinMaxScaler()</pre></div> </div></div></div></div></div></div></div><div class=\"sk-parallel-item\"><div class=\"sk-item\"><div class=\"sk-label-container\"><div class=\"sk-label fitted sk-toggleable\"><input class=\"sk-toggleable__control sk-hidden--visually\" id=\"sk-estimator-id-20\" type=\"checkbox\" ><label for=\"sk-estimator-id-20\" class=\"sk-toggleable__label fitted sk-toggleable__label-arrow\"><div><div>cat</div></div></label><div class=\"sk-toggleable__content fitted\"><pre>Index([&#x27;basin&#x27;, &#x27;region&#x27;, &#x27;ward&#x27;, &#x27;scheme_management&#x27;, &#x27;extraction_type&#x27;,\n",
       "       &#x27;management&#x27;, &#x27;payment_type&#x27;, &#x27;water_quality&#x27;, &#x27;quantity&#x27;, &#x27;source&#x27;,\n",
       "       &#x27;waterpoint_type&#x27;, &#x27;top_installer&#x27;, &#x27;top_funders&#x27;],\n",
       "      dtype=&#x27;object&#x27;)</pre></div> </div></div><div class=\"sk-serial\"><div class=\"sk-item\"><div class=\"sk-serial\"><div class=\"sk-item\"><div class=\"sk-estimator fitted sk-toggleable\"><input class=\"sk-toggleable__control sk-hidden--visually\" id=\"sk-estimator-id-21\" type=\"checkbox\" ><label for=\"sk-estimator-id-21\" class=\"sk-toggleable__label fitted sk-toggleable__label-arrow\"><div><div>OneHotEncoder</div></div><div><a class=\"sk-estimator-doc-link fitted\" rel=\"noreferrer\" target=\"_blank\" href=\"https://scikit-learn.org/1.6/modules/generated/sklearn.preprocessing.OneHotEncoder.html\">?<span>Documentation for OneHotEncoder</span></a></div></label><div class=\"sk-toggleable__content fitted\"><pre>OneHotEncoder(handle_unknown=&#x27;ignore&#x27;)</pre></div> </div></div></div></div></div></div></div></div></div><div class=\"sk-item\"><div class=\"sk-estimator fitted sk-toggleable\"><input class=\"sk-toggleable__control sk-hidden--visually\" id=\"sk-estimator-id-22\" type=\"checkbox\" ><label for=\"sk-estimator-id-22\" class=\"sk-toggleable__label fitted sk-toggleable__label-arrow\"><div><div>RandomForestClassifier</div></div><div><a class=\"sk-estimator-doc-link fitted\" rel=\"noreferrer\" target=\"_blank\" href=\"https://scikit-learn.org/1.6/modules/generated/sklearn.ensemble.RandomForestClassifier.html\">?<span>Documentation for RandomForestClassifier</span></a></div></label><div class=\"sk-toggleable__content fitted\"><pre>RandomForestClassifier(min_samples_split=5)</pre></div> </div></div></div></div></div></div></div></div></div></div></div>"
      ],
      "text/plain": [
       "GridSearchCV(cv=5,\n",
       "             estimator=Pipeline(steps=[('columntransformer',\n",
       "                                        ColumnTransformer(transformers=[('num',\n",
       "                                                                         Pipeline(steps=[('minmaxscaler',\n",
       "                                                                                          MinMaxScaler())]),\n",
       "                                                                         Index(['amount_tsh', 'gps_height', 'longitude', 'latitude', 'district_code',\n",
       "       'population', 'operation_time'],\n",
       "      dtype='object')),\n",
       "                                                                        ('cat',\n",
       "                                                                         Pipeline(steps=[('onehotencoder',\n",
       "                                                                                          OneHotEncoder(handle_unknown='ignore...\n",
       "       'management', 'payment_type', 'water_quality', 'quantity', 'source',\n",
       "       'waterpoint_type', 'top_installer', 'top_funders'],\n",
       "      dtype='object'))])),\n",
       "                                       ('randomforestclassifier',\n",
       "                                        RandomForestClassifier())]),\n",
       "             n_jobs=1,\n",
       "             param_grid={'randomforestclassifier__max_depth': [None, 10, 20],\n",
       "                         'randomforestclassifier__min_samples_split': [2, 5,\n",
       "                                                                       10],\n",
       "                         'randomforestclassifier__n_estimators': [10, 50, 100]},\n",
       "             scoring='roc_auc')"
      ]
     },
     "execution_count": 79,
     "metadata": {},
     "output_type": "execute_result"
    }
   ],
   "source": [
    "grid_search.fit(X_train, y_train)"
   ]
  },
  {
   "cell_type": "code",
   "execution_count": 80,
   "id": "5cab8d15",
   "metadata": {
    "ExecuteTime": {
     "end_time": "2025-03-22T18:10:51.937648Z",
     "start_time": "2025-03-22T18:10:51.922731Z"
    }
   },
   "outputs": [
    {
     "data": {
      "text/plain": [
       "0.923876927919823"
      ]
     },
     "execution_count": 80,
     "metadata": {},
     "output_type": "execute_result"
    }
   ],
   "source": [
    "grid_search.best_score_"
   ]
  },
  {
   "cell_type": "code",
   "execution_count": 81,
   "id": "c6797b83",
   "metadata": {
    "ExecuteTime": {
     "end_time": "2025-03-22T18:10:51.955503Z",
     "start_time": "2025-03-22T18:10:51.943941Z"
    }
   },
   "outputs": [
    {
     "data": {
      "text/plain": [
       "{'randomforestclassifier__max_depth': None,\n",
       " 'randomforestclassifier__min_samples_split': 5,\n",
       " 'randomforestclassifier__n_estimators': 100}"
      ]
     },
     "execution_count": 81,
     "metadata": {},
     "output_type": "execute_result"
    }
   ],
   "source": [
    "grid_search.best_params_"
   ]
  },
  {
   "cell_type": "markdown",
   "id": "95fdcccf",
   "metadata": {},
   "source": [
    "Selection preprocessing + estimator + hyperparameters\n",
    "- Ohe\n",
    "- RobustScaler\n",
    "- Random Forest\n",
    "- Params: max_depth': None,min_samples_split': 5,n_estimators': 100"
   ]
  }
 ],
 "metadata": {
  "kernelspec": {
   "display_name": "Python 3 (ipykernel)",
   "language": "python",
   "name": "python3"
  },
  "language_info": {
   "codemirror_mode": {
    "name": "ipython",
    "version": 3
   },
   "file_extension": ".py",
   "mimetype": "text/x-python",
   "name": "python",
   "nbconvert_exporter": "python",
   "pygments_lexer": "ipython3",
   "version": "3.10.6"
  },
  "toc": {
   "base_numbering": 1,
   "nav_menu": {},
   "number_sections": true,
   "sideBar": true,
   "skip_h1_title": false,
   "title_cell": "Table of Contents",
   "title_sidebar": "Contents",
   "toc_cell": false,
   "toc_position": {},
   "toc_section_display": true,
   "toc_window_display": false
  }
 },
 "nbformat": 4,
 "nbformat_minor": 5
}
