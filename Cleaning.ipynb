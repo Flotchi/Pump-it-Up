{
 "cells": [
  {
   "cell_type": "code",
   "execution_count": 1,
   "id": "1ce7aa15",
   "metadata": {
    "ExecuteTime": {
     "end_time": "2025-03-24T16:17:43.371833Z",
     "start_time": "2025-03-24T16:17:39.573619Z"
    }
   },
   "outputs": [],
   "source": [
    "import pandas as pd\n",
    "import seaborn as sns\n",
    "import numpy as np\n",
    "import matplotlib.pyplot as plt"
   ]
  },
  {
   "cell_type": "code",
   "execution_count": 2,
   "id": "b81f61b1",
   "metadata": {
    "ExecuteTime": {
     "end_time": "2025-03-24T16:17:43.916995Z",
     "start_time": "2025-03-24T16:17:43.389284Z"
    }
   },
   "outputs": [],
   "source": [
    "training_values = pd.read_csv('Training Values-Copy1.csv')\n",
    "training_labels= pd.read_csv('Training Labels-Copy1.csv')"
   ]
  },
  {
   "cell_type": "code",
   "execution_count": 3,
   "id": "d53d1e8b",
   "metadata": {
    "ExecuteTime": {
     "end_time": "2025-03-24T16:17:43.966900Z",
     "start_time": "2025-03-24T16:17:43.928631Z"
    }
   },
   "outputs": [],
   "source": [
    "full_data_merged = training_values.merge(training_labels, on=\"id\")"
   ]
  },
  {
   "cell_type": "markdown",
   "id": "5bc674ce",
   "metadata": {},
   "source": [
    "# Exploration"
   ]
  },
  {
   "cell_type": "code",
   "execution_count": 4,
   "id": "4043644a",
   "metadata": {
    "ExecuteTime": {
     "end_time": "2025-03-24T16:17:43.990944Z",
     "start_time": "2025-03-24T16:17:43.974586Z"
    }
   },
   "outputs": [
    {
     "data": {
      "text/plain": [
       "(59400, 41)"
      ]
     },
     "execution_count": 4,
     "metadata": {},
     "output_type": "execute_result"
    }
   ],
   "source": [
    "full_data_merged.shape"
   ]
  },
  {
   "cell_type": "code",
   "execution_count": 5,
   "id": "98a9dbc0",
   "metadata": {
    "ExecuteTime": {
     "end_time": "2025-03-24T16:17:44.092570Z",
     "start_time": "2025-03-24T16:17:44.017320Z"
    }
   },
   "outputs": [
    {
     "data": {
      "text/html": [
       "<div>\n",
       "<style scoped>\n",
       "    .dataframe tbody tr th:only-of-type {\n",
       "        vertical-align: middle;\n",
       "    }\n",
       "\n",
       "    .dataframe tbody tr th {\n",
       "        vertical-align: top;\n",
       "    }\n",
       "\n",
       "    .dataframe thead th {\n",
       "        text-align: right;\n",
       "    }\n",
       "</style>\n",
       "<table border=\"1\" class=\"dataframe\">\n",
       "  <thead>\n",
       "    <tr style=\"text-align: right;\">\n",
       "      <th></th>\n",
       "      <th>id</th>\n",
       "      <th>amount_tsh</th>\n",
       "      <th>date_recorded</th>\n",
       "      <th>funder</th>\n",
       "      <th>gps_height</th>\n",
       "      <th>installer</th>\n",
       "      <th>longitude</th>\n",
       "      <th>latitude</th>\n",
       "      <th>wpt_name</th>\n",
       "      <th>num_private</th>\n",
       "      <th>...</th>\n",
       "      <th>water_quality</th>\n",
       "      <th>quality_group</th>\n",
       "      <th>quantity</th>\n",
       "      <th>quantity_group</th>\n",
       "      <th>source</th>\n",
       "      <th>source_type</th>\n",
       "      <th>source_class</th>\n",
       "      <th>waterpoint_type</th>\n",
       "      <th>waterpoint_type_group</th>\n",
       "      <th>status_group</th>\n",
       "    </tr>\n",
       "  </thead>\n",
       "  <tbody>\n",
       "    <tr>\n",
       "      <th>0</th>\n",
       "      <td>69572</td>\n",
       "      <td>6000.0</td>\n",
       "      <td>2011-03-14</td>\n",
       "      <td>Roman</td>\n",
       "      <td>1390</td>\n",
       "      <td>Roman</td>\n",
       "      <td>34.938093</td>\n",
       "      <td>-9.856322</td>\n",
       "      <td>none</td>\n",
       "      <td>0</td>\n",
       "      <td>...</td>\n",
       "      <td>soft</td>\n",
       "      <td>good</td>\n",
       "      <td>enough</td>\n",
       "      <td>enough</td>\n",
       "      <td>spring</td>\n",
       "      <td>spring</td>\n",
       "      <td>groundwater</td>\n",
       "      <td>communal standpipe</td>\n",
       "      <td>communal standpipe</td>\n",
       "      <td>functional</td>\n",
       "    </tr>\n",
       "    <tr>\n",
       "      <th>1</th>\n",
       "      <td>8776</td>\n",
       "      <td>0.0</td>\n",
       "      <td>2013-03-06</td>\n",
       "      <td>Grumeti</td>\n",
       "      <td>1399</td>\n",
       "      <td>GRUMETI</td>\n",
       "      <td>34.698766</td>\n",
       "      <td>-2.147466</td>\n",
       "      <td>Zahanati</td>\n",
       "      <td>0</td>\n",
       "      <td>...</td>\n",
       "      <td>soft</td>\n",
       "      <td>good</td>\n",
       "      <td>insufficient</td>\n",
       "      <td>insufficient</td>\n",
       "      <td>rainwater harvesting</td>\n",
       "      <td>rainwater harvesting</td>\n",
       "      <td>surface</td>\n",
       "      <td>communal standpipe</td>\n",
       "      <td>communal standpipe</td>\n",
       "      <td>functional</td>\n",
       "    </tr>\n",
       "    <tr>\n",
       "      <th>2</th>\n",
       "      <td>34310</td>\n",
       "      <td>25.0</td>\n",
       "      <td>2013-02-25</td>\n",
       "      <td>Lottery Club</td>\n",
       "      <td>686</td>\n",
       "      <td>World vision</td>\n",
       "      <td>37.460664</td>\n",
       "      <td>-3.821329</td>\n",
       "      <td>Kwa Mahundi</td>\n",
       "      <td>0</td>\n",
       "      <td>...</td>\n",
       "      <td>soft</td>\n",
       "      <td>good</td>\n",
       "      <td>enough</td>\n",
       "      <td>enough</td>\n",
       "      <td>dam</td>\n",
       "      <td>dam</td>\n",
       "      <td>surface</td>\n",
       "      <td>communal standpipe multiple</td>\n",
       "      <td>communal standpipe</td>\n",
       "      <td>functional</td>\n",
       "    </tr>\n",
       "    <tr>\n",
       "      <th>3</th>\n",
       "      <td>67743</td>\n",
       "      <td>0.0</td>\n",
       "      <td>2013-01-28</td>\n",
       "      <td>Unicef</td>\n",
       "      <td>263</td>\n",
       "      <td>UNICEF</td>\n",
       "      <td>38.486161</td>\n",
       "      <td>-11.155298</td>\n",
       "      <td>Zahanati Ya Nanyumbu</td>\n",
       "      <td>0</td>\n",
       "      <td>...</td>\n",
       "      <td>soft</td>\n",
       "      <td>good</td>\n",
       "      <td>dry</td>\n",
       "      <td>dry</td>\n",
       "      <td>machine dbh</td>\n",
       "      <td>borehole</td>\n",
       "      <td>groundwater</td>\n",
       "      <td>communal standpipe multiple</td>\n",
       "      <td>communal standpipe</td>\n",
       "      <td>non functional</td>\n",
       "    </tr>\n",
       "    <tr>\n",
       "      <th>4</th>\n",
       "      <td>19728</td>\n",
       "      <td>0.0</td>\n",
       "      <td>2011-07-13</td>\n",
       "      <td>Action In A</td>\n",
       "      <td>0</td>\n",
       "      <td>Artisan</td>\n",
       "      <td>31.130847</td>\n",
       "      <td>-1.825359</td>\n",
       "      <td>Shuleni</td>\n",
       "      <td>0</td>\n",
       "      <td>...</td>\n",
       "      <td>soft</td>\n",
       "      <td>good</td>\n",
       "      <td>seasonal</td>\n",
       "      <td>seasonal</td>\n",
       "      <td>rainwater harvesting</td>\n",
       "      <td>rainwater harvesting</td>\n",
       "      <td>surface</td>\n",
       "      <td>communal standpipe</td>\n",
       "      <td>communal standpipe</td>\n",
       "      <td>functional</td>\n",
       "    </tr>\n",
       "  </tbody>\n",
       "</table>\n",
       "<p>5 rows × 41 columns</p>\n",
       "</div>"
      ],
      "text/plain": [
       "      id  amount_tsh date_recorded        funder  gps_height     installer  \\\n",
       "0  69572      6000.0    2011-03-14         Roman        1390         Roman   \n",
       "1   8776         0.0    2013-03-06       Grumeti        1399       GRUMETI   \n",
       "2  34310        25.0    2013-02-25  Lottery Club         686  World vision   \n",
       "3  67743         0.0    2013-01-28        Unicef         263        UNICEF   \n",
       "4  19728         0.0    2011-07-13   Action In A           0       Artisan   \n",
       "\n",
       "   longitude   latitude              wpt_name  num_private  ... water_quality  \\\n",
       "0  34.938093  -9.856322                  none            0  ...          soft   \n",
       "1  34.698766  -2.147466              Zahanati            0  ...          soft   \n",
       "2  37.460664  -3.821329           Kwa Mahundi            0  ...          soft   \n",
       "3  38.486161 -11.155298  Zahanati Ya Nanyumbu            0  ...          soft   \n",
       "4  31.130847  -1.825359               Shuleni            0  ...          soft   \n",
       "\n",
       "  quality_group      quantity  quantity_group                source  \\\n",
       "0          good        enough          enough                spring   \n",
       "1          good  insufficient    insufficient  rainwater harvesting   \n",
       "2          good        enough          enough                   dam   \n",
       "3          good           dry             dry           machine dbh   \n",
       "4          good      seasonal        seasonal  rainwater harvesting   \n",
       "\n",
       "            source_type source_class              waterpoint_type  \\\n",
       "0                spring  groundwater           communal standpipe   \n",
       "1  rainwater harvesting      surface           communal standpipe   \n",
       "2                   dam      surface  communal standpipe multiple   \n",
       "3              borehole  groundwater  communal standpipe multiple   \n",
       "4  rainwater harvesting      surface           communal standpipe   \n",
       "\n",
       "  waterpoint_type_group    status_group  \n",
       "0    communal standpipe      functional  \n",
       "1    communal standpipe      functional  \n",
       "2    communal standpipe      functional  \n",
       "3    communal standpipe  non functional  \n",
       "4    communal standpipe      functional  \n",
       "\n",
       "[5 rows x 41 columns]"
      ]
     },
     "execution_count": 5,
     "metadata": {},
     "output_type": "execute_result"
    }
   ],
   "source": [
    "full_data_merged.head()"
   ]
  },
  {
   "cell_type": "code",
   "execution_count": 6,
   "id": "5ed56497",
   "metadata": {
    "ExecuteTime": {
     "end_time": "2025-03-24T16:17:44.203866Z",
     "start_time": "2025-03-24T16:17:44.105277Z"
    },
    "scrolled": true
   },
   "outputs": [
    {
     "name": "stdout",
     "output_type": "stream",
     "text": [
      "<class 'pandas.core.frame.DataFrame'>\n",
      "RangeIndex: 59400 entries, 0 to 59399\n",
      "Data columns (total 41 columns):\n",
      " #   Column                 Non-Null Count  Dtype  \n",
      "---  ------                 --------------  -----  \n",
      " 0   id                     59400 non-null  int64  \n",
      " 1   amount_tsh             59400 non-null  float64\n",
      " 2   date_recorded          59400 non-null  object \n",
      " 3   funder                 55763 non-null  object \n",
      " 4   gps_height             59400 non-null  int64  \n",
      " 5   installer              55745 non-null  object \n",
      " 6   longitude              59400 non-null  float64\n",
      " 7   latitude               59400 non-null  float64\n",
      " 8   wpt_name               59398 non-null  object \n",
      " 9   num_private            59400 non-null  int64  \n",
      " 10  basin                  59400 non-null  object \n",
      " 11  subvillage             59029 non-null  object \n",
      " 12  region                 59400 non-null  object \n",
      " 13  region_code            59400 non-null  int64  \n",
      " 14  district_code          59400 non-null  int64  \n",
      " 15  lga                    59400 non-null  object \n",
      " 16  ward                   59400 non-null  object \n",
      " 17  population             59400 non-null  int64  \n",
      " 18  public_meeting         56066 non-null  object \n",
      " 19  recorded_by            59400 non-null  object \n",
      " 20  scheme_management      55522 non-null  object \n",
      " 21  scheme_name            30590 non-null  object \n",
      " 22  permit                 56344 non-null  object \n",
      " 23  construction_year      59400 non-null  int64  \n",
      " 24  extraction_type        59400 non-null  object \n",
      " 25  extraction_type_group  59400 non-null  object \n",
      " 26  extraction_type_class  59400 non-null  object \n",
      " 27  management             59400 non-null  object \n",
      " 28  management_group       59400 non-null  object \n",
      " 29  payment                59400 non-null  object \n",
      " 30  payment_type           59400 non-null  object \n",
      " 31  water_quality          59400 non-null  object \n",
      " 32  quality_group          59400 non-null  object \n",
      " 33  quantity               59400 non-null  object \n",
      " 34  quantity_group         59400 non-null  object \n",
      " 35  source                 59400 non-null  object \n",
      " 36  source_type            59400 non-null  object \n",
      " 37  source_class           59400 non-null  object \n",
      " 38  waterpoint_type        59400 non-null  object \n",
      " 39  waterpoint_type_group  59400 non-null  object \n",
      " 40  status_group           59400 non-null  object \n",
      "dtypes: float64(3), int64(7), object(31)\n",
      "memory usage: 18.6+ MB\n"
     ]
    }
   ],
   "source": [
    "full_data_merged.info()"
   ]
  },
  {
   "cell_type": "code",
   "execution_count": 7,
   "id": "2b6844de",
   "metadata": {
    "ExecuteTime": {
     "end_time": "2025-03-24T16:17:44.333540Z",
     "start_time": "2025-03-24T16:17:44.216726Z"
    }
   },
   "outputs": [
    {
     "data": {
      "text/html": [
       "<div>\n",
       "<style scoped>\n",
       "    .dataframe tbody tr th:only-of-type {\n",
       "        vertical-align: middle;\n",
       "    }\n",
       "\n",
       "    .dataframe tbody tr th {\n",
       "        vertical-align: top;\n",
       "    }\n",
       "\n",
       "    .dataframe thead th {\n",
       "        text-align: right;\n",
       "    }\n",
       "</style>\n",
       "<table border=\"1\" class=\"dataframe\">\n",
       "  <thead>\n",
       "    <tr style=\"text-align: right;\">\n",
       "      <th></th>\n",
       "      <th>id</th>\n",
       "      <th>amount_tsh</th>\n",
       "      <th>gps_height</th>\n",
       "      <th>longitude</th>\n",
       "      <th>latitude</th>\n",
       "      <th>num_private</th>\n",
       "      <th>region_code</th>\n",
       "      <th>district_code</th>\n",
       "      <th>population</th>\n",
       "      <th>construction_year</th>\n",
       "    </tr>\n",
       "  </thead>\n",
       "  <tbody>\n",
       "    <tr>\n",
       "      <th>count</th>\n",
       "      <td>59400.000000</td>\n",
       "      <td>59400.000000</td>\n",
       "      <td>59400.000000</td>\n",
       "      <td>59400.000000</td>\n",
       "      <td>5.940000e+04</td>\n",
       "      <td>59400.000000</td>\n",
       "      <td>59400.000000</td>\n",
       "      <td>59400.000000</td>\n",
       "      <td>59400.000000</td>\n",
       "      <td>59400.000000</td>\n",
       "    </tr>\n",
       "    <tr>\n",
       "      <th>mean</th>\n",
       "      <td>37115.131768</td>\n",
       "      <td>317.650385</td>\n",
       "      <td>668.297239</td>\n",
       "      <td>34.077427</td>\n",
       "      <td>-5.706033e+00</td>\n",
       "      <td>0.474141</td>\n",
       "      <td>15.297003</td>\n",
       "      <td>5.629747</td>\n",
       "      <td>179.909983</td>\n",
       "      <td>1300.652475</td>\n",
       "    </tr>\n",
       "    <tr>\n",
       "      <th>std</th>\n",
       "      <td>21453.128371</td>\n",
       "      <td>2997.574558</td>\n",
       "      <td>693.116350</td>\n",
       "      <td>6.567432</td>\n",
       "      <td>2.946019e+00</td>\n",
       "      <td>12.236230</td>\n",
       "      <td>17.587406</td>\n",
       "      <td>9.633649</td>\n",
       "      <td>471.482176</td>\n",
       "      <td>951.620547</td>\n",
       "    </tr>\n",
       "    <tr>\n",
       "      <th>min</th>\n",
       "      <td>0.000000</td>\n",
       "      <td>0.000000</td>\n",
       "      <td>-90.000000</td>\n",
       "      <td>0.000000</td>\n",
       "      <td>-1.164944e+01</td>\n",
       "      <td>0.000000</td>\n",
       "      <td>1.000000</td>\n",
       "      <td>0.000000</td>\n",
       "      <td>0.000000</td>\n",
       "      <td>0.000000</td>\n",
       "    </tr>\n",
       "    <tr>\n",
       "      <th>25%</th>\n",
       "      <td>18519.750000</td>\n",
       "      <td>0.000000</td>\n",
       "      <td>0.000000</td>\n",
       "      <td>33.090347</td>\n",
       "      <td>-8.540621e+00</td>\n",
       "      <td>0.000000</td>\n",
       "      <td>5.000000</td>\n",
       "      <td>2.000000</td>\n",
       "      <td>0.000000</td>\n",
       "      <td>0.000000</td>\n",
       "    </tr>\n",
       "    <tr>\n",
       "      <th>50%</th>\n",
       "      <td>37061.500000</td>\n",
       "      <td>0.000000</td>\n",
       "      <td>369.000000</td>\n",
       "      <td>34.908743</td>\n",
       "      <td>-5.021597e+00</td>\n",
       "      <td>0.000000</td>\n",
       "      <td>12.000000</td>\n",
       "      <td>3.000000</td>\n",
       "      <td>25.000000</td>\n",
       "      <td>1986.000000</td>\n",
       "    </tr>\n",
       "    <tr>\n",
       "      <th>75%</th>\n",
       "      <td>55656.500000</td>\n",
       "      <td>20.000000</td>\n",
       "      <td>1319.250000</td>\n",
       "      <td>37.178387</td>\n",
       "      <td>-3.326156e+00</td>\n",
       "      <td>0.000000</td>\n",
       "      <td>17.000000</td>\n",
       "      <td>5.000000</td>\n",
       "      <td>215.000000</td>\n",
       "      <td>2004.000000</td>\n",
       "    </tr>\n",
       "    <tr>\n",
       "      <th>max</th>\n",
       "      <td>74247.000000</td>\n",
       "      <td>350000.000000</td>\n",
       "      <td>2770.000000</td>\n",
       "      <td>40.345193</td>\n",
       "      <td>-2.000000e-08</td>\n",
       "      <td>1776.000000</td>\n",
       "      <td>99.000000</td>\n",
       "      <td>80.000000</td>\n",
       "      <td>30500.000000</td>\n",
       "      <td>2013.000000</td>\n",
       "    </tr>\n",
       "  </tbody>\n",
       "</table>\n",
       "</div>"
      ],
      "text/plain": [
       "                 id     amount_tsh    gps_height     longitude      latitude  \\\n",
       "count  59400.000000   59400.000000  59400.000000  59400.000000  5.940000e+04   \n",
       "mean   37115.131768     317.650385    668.297239     34.077427 -5.706033e+00   \n",
       "std    21453.128371    2997.574558    693.116350      6.567432  2.946019e+00   \n",
       "min        0.000000       0.000000    -90.000000      0.000000 -1.164944e+01   \n",
       "25%    18519.750000       0.000000      0.000000     33.090347 -8.540621e+00   \n",
       "50%    37061.500000       0.000000    369.000000     34.908743 -5.021597e+00   \n",
       "75%    55656.500000      20.000000   1319.250000     37.178387 -3.326156e+00   \n",
       "max    74247.000000  350000.000000   2770.000000     40.345193 -2.000000e-08   \n",
       "\n",
       "        num_private   region_code  district_code    population  \\\n",
       "count  59400.000000  59400.000000   59400.000000  59400.000000   \n",
       "mean       0.474141     15.297003       5.629747    179.909983   \n",
       "std       12.236230     17.587406       9.633649    471.482176   \n",
       "min        0.000000      1.000000       0.000000      0.000000   \n",
       "25%        0.000000      5.000000       2.000000      0.000000   \n",
       "50%        0.000000     12.000000       3.000000     25.000000   \n",
       "75%        0.000000     17.000000       5.000000    215.000000   \n",
       "max     1776.000000     99.000000      80.000000  30500.000000   \n",
       "\n",
       "       construction_year  \n",
       "count       59400.000000  \n",
       "mean         1300.652475  \n",
       "std           951.620547  \n",
       "min             0.000000  \n",
       "25%             0.000000  \n",
       "50%          1986.000000  \n",
       "75%          2004.000000  \n",
       "max          2013.000000  "
      ]
     },
     "execution_count": 7,
     "metadata": {},
     "output_type": "execute_result"
    }
   ],
   "source": [
    "full_data_merged.describe()"
   ]
  },
  {
   "cell_type": "code",
   "execution_count": 8,
   "id": "d5b6d409",
   "metadata": {
    "ExecuteTime": {
     "end_time": "2025-03-24T16:17:44.354357Z",
     "start_time": "2025-03-24T16:17:44.338591Z"
    },
    "scrolled": true
   },
   "outputs": [
    {
     "data": {
      "text/plain": [
       "status_group\n",
       "functional                 54.308081\n",
       "non functional             38.424242\n",
       "functional needs repair     7.267677\n",
       "Name: count, dtype: float64"
      ]
     },
     "execution_count": 8,
     "metadata": {},
     "output_type": "execute_result"
    }
   ],
   "source": [
    "full_data_merged['status_group'].value_counts()/len(full_data_merged)*100"
   ]
  },
  {
   "cell_type": "code",
   "execution_count": 9,
   "id": "fcda3d2a",
   "metadata": {
    "ExecuteTime": {
     "end_time": "2025-03-24T16:17:44.614670Z",
     "start_time": "2025-03-24T16:17:44.360335Z"
    },
    "scrolled": true
   },
   "outputs": [
    {
     "data": {
      "text/plain": [
       "id                        0.000000\n",
       "amount_tsh                0.000000\n",
       "date_recorded             0.000000\n",
       "funder                    6.122896\n",
       "gps_height                0.000000\n",
       "installer                 6.153199\n",
       "longitude                 0.000000\n",
       "latitude                  0.000000\n",
       "wpt_name                  0.003367\n",
       "num_private               0.000000\n",
       "basin                     0.000000\n",
       "subvillage                0.624579\n",
       "region                    0.000000\n",
       "region_code               0.000000\n",
       "district_code             0.000000\n",
       "lga                       0.000000\n",
       "ward                      0.000000\n",
       "population                0.000000\n",
       "public_meeting            5.612795\n",
       "recorded_by               0.000000\n",
       "scheme_management         6.528620\n",
       "scheme_name              48.501684\n",
       "permit                    5.144781\n",
       "construction_year         0.000000\n",
       "extraction_type           0.000000\n",
       "extraction_type_group     0.000000\n",
       "extraction_type_class     0.000000\n",
       "management                0.000000\n",
       "management_group          0.000000\n",
       "payment                   0.000000\n",
       "payment_type              0.000000\n",
       "water_quality             0.000000\n",
       "quality_group             0.000000\n",
       "quantity                  0.000000\n",
       "quantity_group            0.000000\n",
       "source                    0.000000\n",
       "source_type               0.000000\n",
       "source_class              0.000000\n",
       "waterpoint_type           0.000000\n",
       "waterpoint_type_group     0.000000\n",
       "status_group              0.000000\n",
       "dtype: float64"
      ]
     },
     "execution_count": 9,
     "metadata": {},
     "output_type": "execute_result"
    }
   ],
   "source": [
    "full_data_merged.isnull().sum()/len(full_data_merged)*100"
   ]
  },
  {
   "cell_type": "markdown",
   "id": "f1d5ce12",
   "metadata": {},
   "source": [
    "# Cleaning & Transformation"
   ]
  },
  {
   "cell_type": "markdown",
   "id": "e6687271",
   "metadata": {},
   "source": [
    "Format converting"
   ]
  },
  {
   "cell_type": "code",
   "execution_count": 10,
   "id": "ee2e43e7",
   "metadata": {
    "ExecuteTime": {
     "end_time": "2025-03-24T16:17:44.638396Z",
     "start_time": "2025-03-24T16:17:44.619189Z"
    }
   },
   "outputs": [],
   "source": [
    "full_data_merged['date_recorded'] = pd.to_datetime(full_data_merged['date_recorded'])"
   ]
  },
  {
   "cell_type": "code",
   "execution_count": 11,
   "id": "aabbc3ea",
   "metadata": {
    "ExecuteTime": {
     "end_time": "2025-03-24T16:17:44.675425Z",
     "start_time": "2025-03-24T16:17:44.645835Z"
    },
    "scrolled": true
   },
   "outputs": [],
   "source": [
    "full_data_merged['permit']= full_data_merged['permit'].astype('boolean')"
   ]
  },
  {
   "cell_type": "code",
   "execution_count": 12,
   "id": "0435dc9e",
   "metadata": {
    "ExecuteTime": {
     "end_time": "2025-03-24T16:17:44.704440Z",
     "start_time": "2025-03-24T16:17:44.689673Z"
    }
   },
   "outputs": [],
   "source": [
    "full_data_merged['public_meeting']= full_data_merged['public_meeting'].astype('boolean')"
   ]
  },
  {
   "cell_type": "markdown",
   "id": "4122087e",
   "metadata": {},
   "source": [
    "Drop NA and duplicates rows"
   ]
  },
  {
   "cell_type": "code",
   "execution_count": 13,
   "id": "0368ebdb",
   "metadata": {
    "ExecuteTime": {
     "end_time": "2025-03-24T16:17:44.947407Z",
     "start_time": "2025-03-24T16:17:44.707610Z"
    }
   },
   "outputs": [],
   "source": [
    "full_data_merged = full_data_merged.drop_duplicates()"
   ]
  },
  {
   "cell_type": "code",
   "execution_count": 14,
   "id": "fd7ad6f1",
   "metadata": {
    "ExecuteTime": {
     "end_time": "2025-03-24T16:17:45.043880Z",
     "start_time": "2025-03-24T16:17:44.950519Z"
    }
   },
   "outputs": [],
   "source": [
    "full_data_merged.dropna(thresh=35, inplace=True)"
   ]
  },
  {
   "cell_type": "markdown",
   "id": "3b70d6c5",
   "metadata": {},
   "source": [
    "Fill NA Categorical columns"
   ]
  },
  {
   "cell_type": "code",
   "execution_count": 15,
   "id": "d7d56a8e",
   "metadata": {
    "ExecuteTime": {
     "end_time": "2025-03-24T16:17:45.092474Z",
     "start_time": "2025-03-24T16:17:45.047502Z"
    }
   },
   "outputs": [],
   "source": [
    "full_data_merged[\"funder\"]=full_data_merged[\"funder\"].fillna(\"Unknown\")\n",
    "full_data_merged['funder']= full_data_merged['funder'].replace(to_replace = '0', value ='Unknown')\n",
    "full_data_merged[\"installer\"]=full_data_merged[\"installer\"].fillna(\"Unknown\")\n",
    "full_data_merged['installer']= full_data_merged['installer'].replace(to_replace = '0', value ='Unknown')\n",
    "full_data_merged[\"scheme_management\"]=full_data_merged[\"scheme_management\"].fillna(\"Unknown\")\n",
    "full_data_merged[\"subvillage\"]=full_data_merged[\"subvillage\"].fillna(\"Unknown\")\n",
    "full_data_merged[\"wpt_name\"]=full_data_merged[\"wpt_name\"].fillna(\"Unknown\")"
   ]
  },
  {
   "cell_type": "markdown",
   "id": "e6c42ff9",
   "metadata": {},
   "source": [
    "Fill NA numerical columns"
   ]
  },
  {
   "cell_type": "code",
   "execution_count": 16,
   "id": "4872fd4c",
   "metadata": {
    "ExecuteTime": {
     "end_time": "2025-03-24T16:17:45.114360Z",
     "start_time": "2025-03-24T16:17:45.096285Z"
    }
   },
   "outputs": [],
   "source": [
    "full_data_merged['amount_tsh'] = full_data_merged['amount_tsh'].replace(0.0, np.nan)\n",
    "full_data_merged['gps_height'] = full_data_merged['gps_height'].replace(0, np.nan)\n",
    "full_data_merged['population'] = full_data_merged['population'].replace(0, np.nan)\n",
    "full_data_merged['longitude'] = full_data_merged['longitude'].replace(0.0, np.nan)\n",
    "full_data_merged['latitude'] = full_data_merged['latitude'].replace(0.0, np.nan)\n",
    "full_data_merged['construction_year'] = full_data_merged['construction_year'].replace(0, np.nan)"
   ]
  },
  {
   "cell_type": "code",
   "execution_count": 17,
   "id": "db01af21",
   "metadata": {
    "ExecuteTime": {
     "end_time": "2025-03-24T16:17:45.195382Z",
     "start_time": "2025-03-24T16:17:45.119128Z"
    }
   },
   "outputs": [
    {
     "data": {
      "text/plain": [
       "id                           0\n",
       "amount_tsh               41639\n",
       "date_recorded                0\n",
       "funder                       0\n",
       "gps_height               20438\n",
       "installer                    0\n",
       "longitude                 1812\n",
       "latitude                     0\n",
       "wpt_name                     0\n",
       "num_private                  0\n",
       "basin                        0\n",
       "subvillage                   0\n",
       "region                       0\n",
       "region_code                  0\n",
       "district_code                0\n",
       "lga                          0\n",
       "ward                         0\n",
       "population               21381\n",
       "public_meeting            3334\n",
       "recorded_by                  0\n",
       "scheme_management            0\n",
       "scheme_name              28810\n",
       "permit                    3056\n",
       "construction_year        20709\n",
       "extraction_type              0\n",
       "extraction_type_group        0\n",
       "extraction_type_class        0\n",
       "management                   0\n",
       "management_group             0\n",
       "payment                      0\n",
       "payment_type                 0\n",
       "water_quality                0\n",
       "quality_group                0\n",
       "quantity                     0\n",
       "quantity_group               0\n",
       "source                       0\n",
       "source_type                  0\n",
       "source_class                 0\n",
       "waterpoint_type              0\n",
       "waterpoint_type_group        0\n",
       "status_group                 0\n",
       "dtype: int64"
      ]
     },
     "execution_count": 17,
     "metadata": {},
     "output_type": "execute_result"
    }
   ],
   "source": [
    "full_data_merged.isnull().sum()"
   ]
  },
  {
   "cell_type": "markdown",
   "id": "53aa1cfd",
   "metadata": {},
   "source": [
    "Replace NA by Mean or Median of location group"
   ]
  },
  {
   "cell_type": "code",
   "execution_count": 18,
   "id": "33adc9c5",
   "metadata": {
    "ExecuteTime": {
     "end_time": "2025-03-24T16:17:45.257247Z",
     "start_time": "2025-03-24T16:17:45.201202Z"
    }
   },
   "outputs": [],
   "source": [
    "full_data_merged[\"gps_height\"]=full_data_merged[\"gps_height\"].fillna(full_data_merged.groupby(['region', 'district_code'])[\"gps_height\"].transform(\"mean\"))\n",
    "full_data_merged[\"gps_height\"]=full_data_merged[\"gps_height\"].fillna(full_data_merged.groupby(['region'])[\"gps_height\"].transform(\"mean\"))\n",
    "full_data_merged[\"gps_height\"]=full_data_merged[\"gps_height\"].fillna(full_data_merged.groupby(['district_code'])[\"gps_height\"].transform(\"mean\"))\n",
    "full_data_merged[\"gps_height\"]=full_data_merged[\"gps_height\"].fillna(full_data_merged[\"gps_height\"].mean())"
   ]
  },
  {
   "cell_type": "code",
   "execution_count": 19,
   "id": "46113c48",
   "metadata": {
    "ExecuteTime": {
     "end_time": "2025-03-24T16:17:45.313779Z",
     "start_time": "2025-03-24T16:17:45.269818Z"
    }
   },
   "outputs": [],
   "source": [
    "full_data_merged[\"amount_tsh\"]=full_data_merged[\"amount_tsh\"].fillna(full_data_merged.groupby(['region', 'district_code'])[\"amount_tsh\"].transform(\"median\"))\n",
    "full_data_merged[\"amount_tsh\"]=full_data_merged[\"amount_tsh\"].fillna(full_data_merged.groupby(['region'])[\"amount_tsh\"].transform(\"median\"))\n",
    "full_data_merged[\"amount_tsh\"]=full_data_merged[\"amount_tsh\"].fillna(full_data_merged.groupby(['district_code'])[\"amount_tsh\"].transform(\"median\"))\n",
    "full_data_merged[\"amount_tsh\"]=full_data_merged[\"amount_tsh\"].fillna(full_data_merged[\"amount_tsh\"].median())"
   ]
  },
  {
   "cell_type": "code",
   "execution_count": 20,
   "id": "c56a3293",
   "metadata": {
    "ExecuteTime": {
     "end_time": "2025-03-24T16:17:45.366495Z",
     "start_time": "2025-03-24T16:17:45.318903Z"
    }
   },
   "outputs": [],
   "source": [
    "full_data_merged[\"population\"]=full_data_merged[\"population\"].fillna(full_data_merged.groupby(['region', 'district_code'])[\"population\"].transform(\"median\"))\n",
    "full_data_merged[\"population\"]=full_data_merged[\"population\"].fillna(full_data_merged.groupby(['region'])[\"population\"].transform(\"median\"))\n",
    "full_data_merged[\"population\"]=full_data_merged[\"population\"].fillna(full_data_merged.groupby(['district_code'])[\"population\"].transform(\"median\"))\n",
    "full_data_merged[\"population\"]=full_data_merged[\"population\"].fillna(full_data_merged[\"population\"].median())"
   ]
  },
  {
   "cell_type": "code",
   "execution_count": 21,
   "id": "66648d6c",
   "metadata": {
    "ExecuteTime": {
     "end_time": "2025-03-24T16:17:45.407199Z",
     "start_time": "2025-03-24T16:17:45.381744Z"
    }
   },
   "outputs": [],
   "source": [
    "full_data_merged[\"longitude\"]=full_data_merged[\"longitude\"].fillna(full_data_merged.groupby(['region', 'district_code'])[\"longitude\"].transform(\"mean\"))\n",
    "full_data_merged[\"longitude\"]=full_data_merged[\"longitude\"].fillna(full_data_merged.groupby(['region'])[\"longitude\"].transform(\"mean\"))"
   ]
  },
  {
   "cell_type": "code",
   "execution_count": 22,
   "id": "f0e941fa",
   "metadata": {
    "ExecuteTime": {
     "end_time": "2025-03-24T16:17:45.449870Z",
     "start_time": "2025-03-24T16:17:45.413845Z"
    }
   },
   "outputs": [],
   "source": [
    "full_data_merged[\"construction_year\"] = full_data_merged[\"construction_year\"].fillna(full_data_merged.groupby(['region', 'district_code'])[\"construction_year\"].transform(\"median\"))\n",
    "full_data_merged[\"construction_year\"] = full_data_merged[\"construction_year\"].fillna(full_data_merged.groupby(['region'])[\"construction_year\"].transform(\"median\"))\n",
    "full_data_merged[\"construction_year\"] = full_data_merged[\"construction_year\"].fillna(full_data_merged.groupby(['district_code'])[\"construction_year\"].transform(\"median\"))\n",
    "full_data_merged[\"construction_year\"] = full_data_merged[\"construction_year\"].fillna(full_data_merged[\"construction_year\"].median())"
   ]
  },
  {
   "cell_type": "code",
   "execution_count": 23,
   "id": "66a86aa2",
   "metadata": {
    "ExecuteTime": {
     "end_time": "2025-03-24T16:17:45.523093Z",
     "start_time": "2025-03-24T16:17:45.453371Z"
    }
   },
   "outputs": [
    {
     "data": {
      "text/plain": [
       "id                           0\n",
       "amount_tsh                   0\n",
       "date_recorded                0\n",
       "funder                       0\n",
       "gps_height                   0\n",
       "installer                    0\n",
       "longitude                    0\n",
       "latitude                     0\n",
       "wpt_name                     0\n",
       "num_private                  0\n",
       "basin                        0\n",
       "subvillage                   0\n",
       "region                       0\n",
       "region_code                  0\n",
       "district_code                0\n",
       "lga                          0\n",
       "ward                         0\n",
       "population                   0\n",
       "public_meeting            3334\n",
       "recorded_by                  0\n",
       "scheme_management            0\n",
       "scheme_name              28810\n",
       "permit                    3056\n",
       "construction_year            0\n",
       "extraction_type              0\n",
       "extraction_type_group        0\n",
       "extraction_type_class        0\n",
       "management                   0\n",
       "management_group             0\n",
       "payment                      0\n",
       "payment_type                 0\n",
       "water_quality                0\n",
       "quality_group                0\n",
       "quantity                     0\n",
       "quantity_group               0\n",
       "source                       0\n",
       "source_type                  0\n",
       "source_class                 0\n",
       "waterpoint_type              0\n",
       "waterpoint_type_group        0\n",
       "status_group                 0\n",
       "dtype: int64"
      ]
     },
     "execution_count": 23,
     "metadata": {},
     "output_type": "execute_result"
    }
   ],
   "source": [
    "full_data_merged.isnull().sum()"
   ]
  },
  {
   "cell_type": "markdown",
   "id": "a507a2e8",
   "metadata": {},
   "source": [
    "Columns Dropping"
   ]
  },
  {
   "cell_type": "code",
   "execution_count": 24,
   "id": "2905710e",
   "metadata": {
    "ExecuteTime": {
     "end_time": "2025-03-24T16:17:45.596657Z",
     "start_time": "2025-03-24T16:17:45.529835Z"
    }
   },
   "outputs": [
    {
     "data": {
      "text/plain": [
       "wpt_name\n",
       "none                       3563\n",
       "Shuleni                    1748\n",
       "Zahanati                    830\n",
       "Msikitini                   535\n",
       "Kanisani                    323\n",
       "                           ... \n",
       "Kwa Medadi                    1\n",
       "Kwa Kubembeni                 1\n",
       "Shule Ya Msingi Milanzi       1\n",
       "Funua                         1\n",
       "Kwa Mzee Lugawa               1\n",
       "Name: count, Length: 37399, dtype: int64"
      ]
     },
     "execution_count": 24,
     "metadata": {},
     "output_type": "execute_result"
    }
   ],
   "source": [
    "full_data_merged[\"wpt_name\"].value_counts()"
   ]
  },
  {
   "cell_type": "code",
   "execution_count": 25,
   "id": "97c93e73",
   "metadata": {
    "ExecuteTime": {
     "end_time": "2025-03-24T16:17:45.613477Z",
     "start_time": "2025-03-24T16:17:45.601072Z"
    }
   },
   "outputs": [
    {
     "data": {
      "text/plain": [
       "num_private\n",
       "0       58643\n",
       "6          81\n",
       "1          73\n",
       "5          46\n",
       "8          46\n",
       "        ...  \n",
       "42          1\n",
       "23          1\n",
       "136         1\n",
       "698         1\n",
       "1402        1\n",
       "Name: count, Length: 65, dtype: int64"
      ]
     },
     "execution_count": 25,
     "metadata": {},
     "output_type": "execute_result"
    }
   ],
   "source": [
    "full_data_merged[\"num_private\"].nunique()\n",
    "full_data_merged[\"num_private\"].value_counts()"
   ]
  },
  {
   "cell_type": "code",
   "execution_count": 26,
   "id": "9ce570fd",
   "metadata": {
    "ExecuteTime": {
     "end_time": "2025-03-24T16:17:45.673226Z",
     "start_time": "2025-03-24T16:17:45.621235Z"
    },
    "scrolled": true
   },
   "outputs": [
    {
     "data": {
      "text/plain": [
       "0        GeoData Consultants Ltd\n",
       "1        GeoData Consultants Ltd\n",
       "2        GeoData Consultants Ltd\n",
       "3        GeoData Consultants Ltd\n",
       "4        GeoData Consultants Ltd\n",
       "                  ...           \n",
       "59395    GeoData Consultants Ltd\n",
       "59396    GeoData Consultants Ltd\n",
       "59397    GeoData Consultants Ltd\n",
       "59398    GeoData Consultants Ltd\n",
       "59399    GeoData Consultants Ltd\n",
       "Name: recorded_by, Length: 59400, dtype: object"
      ]
     },
     "execution_count": 26,
     "metadata": {},
     "output_type": "execute_result"
    }
   ],
   "source": [
    "full_data_merged[\"recorded_by\"]"
   ]
  },
  {
   "cell_type": "code",
   "execution_count": 27,
   "id": "6c01fb73",
   "metadata": {
    "ExecuteTime": {
     "end_time": "2025-03-24T16:17:45.694323Z",
     "start_time": "2025-03-24T16:17:45.685184Z"
    }
   },
   "outputs": [],
   "source": [
    "#Useless features only one values (no adding relevant info) or too many single values (noise) or features with no sense (in our context)"
   ]
  },
  {
   "cell_type": "code",
   "execution_count": 28,
   "id": "7e427220",
   "metadata": {
    "ExecuteTime": {
     "end_time": "2025-03-24T16:17:45.746862Z",
     "start_time": "2025-03-24T16:17:45.698932Z"
    }
   },
   "outputs": [],
   "source": [
    "full_data_merged.drop(['wpt_name','num_private','recorded_by','subvillage'],axis=1,inplace=True)"
   ]
  },
  {
   "cell_type": "code",
   "execution_count": 29,
   "id": "8a544ff5",
   "metadata": {
    "ExecuteTime": {
     "end_time": "2025-03-24T16:17:45.755424Z",
     "start_time": "2025-03-24T16:17:45.751020Z"
    }
   },
   "outputs": [],
   "source": [
    "#dropping redondant (or very close) columns"
   ]
  },
  {
   "cell_type": "code",
   "execution_count": 30,
   "id": "a349e70c",
   "metadata": {
    "ExecuteTime": {
     "end_time": "2025-03-24T16:17:45.782452Z",
     "start_time": "2025-03-24T16:17:45.760802Z"
    }
   },
   "outputs": [
    {
     "data": {
      "text/plain": [
       "water_quality       quality_group\n",
       "coloured            colored            490\n",
       "fluoride            fluoride           200\n",
       "fluoride abandoned  fluoride            17\n",
       "milky               milky              804\n",
       "salty               salty             4856\n",
       "salty abandoned     salty              339\n",
       "soft                good             50818\n",
       "unknown             unknown           1876\n",
       "dtype: int64"
      ]
     },
     "execution_count": 30,
     "metadata": {},
     "output_type": "execute_result"
    }
   ],
   "source": [
    "full_data_merged.groupby(['water_quality','quality_group']).size()"
   ]
  },
  {
   "cell_type": "code",
   "execution_count": 31,
   "id": "022d193e",
   "metadata": {
    "ExecuteTime": {
     "end_time": "2025-03-24T16:17:45.817139Z",
     "start_time": "2025-03-24T16:17:45.787270Z"
    }
   },
   "outputs": [
    {
     "data": {
      "text/plain": [
       "extraction_type_group  extraction_type_class  extraction_type          \n",
       "afridev                handpump               afridev                       1770\n",
       "gravity                gravity                gravity                      26780\n",
       "india mark ii          handpump               india mark ii                 2400\n",
       "india mark iii         handpump               india mark iii                  98\n",
       "mono                   motorpump              mono                          2865\n",
       "nira/tanira            handpump               nira/tanira                   8154\n",
       "other                  other                  other                         6430\n",
       "other handpump         handpump               other - mkulima/shinyanga        2\n",
       "                                              other - play pump               85\n",
       "                                              other - swn 81                 229\n",
       "                                              walimi                          48\n",
       "other motorpump        motorpump              cemo                            90\n",
       "                                              climax                          32\n",
       "rope pump              rope pump              other - rope pump              451\n",
       "submersible            submersible            ksb                           1415\n",
       "                                              submersible                   4764\n",
       "swn 80                 handpump               swn 80                        3670\n",
       "wind-powered           wind-powered           windmill                       117\n",
       "dtype: int64"
      ]
     },
     "execution_count": 31,
     "metadata": {},
     "output_type": "execute_result"
    }
   ],
   "source": [
    "full_data_merged.groupby(['extraction_type_group','extraction_type_class','extraction_type']).size()"
   ]
  },
  {
   "cell_type": "code",
   "execution_count": 32,
   "id": "6ee46009",
   "metadata": {
    "ExecuteTime": {
     "end_time": "2025-03-24T16:17:45.859016Z",
     "start_time": "2025-03-24T16:17:45.821024Z"
    }
   },
   "outputs": [
    {
     "data": {
      "text/plain": [
       "scheme_management  scheme_name              \n",
       "Company            BFFS                           1\n",
       "                   Bagamoyo Wate                 60\n",
       "                   Bagamoyo wate                210\n",
       "                   Borehole                       1\n",
       "                   Borehole drilling project      1\n",
       "                                               ... \n",
       "Water authority    Yongoma                       16\n",
       "                   Zepalama                       5\n",
       "                   no scheme                      9\n",
       "                   pump                           2\n",
       "                   water supply at Kalebejo       1\n",
       "Length: 3193, dtype: int64"
      ]
     },
     "execution_count": 32,
     "metadata": {},
     "output_type": "execute_result"
    }
   ],
   "source": [
    "full_data_merged.groupby(['scheme_management', 'scheme_name']).size() "
   ]
  },
  {
   "cell_type": "code",
   "execution_count": 33,
   "id": "62d90ae2",
   "metadata": {
    "ExecuteTime": {
     "end_time": "2025-03-24T16:17:45.919629Z",
     "start_time": "2025-03-24T16:17:45.866909Z"
    }
   },
   "outputs": [
    {
     "data": {
      "text/plain": [
       "water_quality       quality_group\n",
       "coloured            colored            490\n",
       "fluoride            fluoride           200\n",
       "fluoride abandoned  fluoride            17\n",
       "milky               milky              804\n",
       "salty               salty             4856\n",
       "salty abandoned     salty              339\n",
       "soft                good             50818\n",
       "unknown             unknown           1876\n",
       "dtype: int64"
      ]
     },
     "execution_count": 33,
     "metadata": {},
     "output_type": "execute_result"
    }
   ],
   "source": [
    "full_data_merged.groupby(['water_quality', 'quality_group']).size() "
   ]
  },
  {
   "cell_type": "code",
   "execution_count": 34,
   "id": "b66022bb",
   "metadata": {
    "ExecuteTime": {
     "end_time": "2025-03-24T16:17:45.991942Z",
     "start_time": "2025-03-24T16:17:45.923596Z"
    }
   },
   "outputs": [
    {
     "data": {
      "text/plain": [
       "quantity      quantity_group\n",
       "dry           dry                6246\n",
       "enough        enough            33186\n",
       "insufficient  insufficient      15129\n",
       "seasonal      seasonal           4050\n",
       "unknown       unknown             789\n",
       "dtype: int64"
      ]
     },
     "execution_count": 34,
     "metadata": {},
     "output_type": "execute_result"
    }
   ],
   "source": [
    "full_data_merged.groupby(['quantity', 'quantity_group']).size() "
   ]
  },
  {
   "cell_type": "code",
   "execution_count": 35,
   "id": "ebc47cf6",
   "metadata": {
    "ExecuteTime": {
     "end_time": "2025-03-24T16:17:46.050094Z",
     "start_time": "2025-03-24T16:17:46.004703Z"
    }
   },
   "outputs": [
    {
     "data": {
      "text/plain": [
       "source                source_type           source_class\n",
       "dam                   dam                   surface           656\n",
       "hand dtw              borehole              groundwater       874\n",
       "lake                  river/lake            surface           765\n",
       "machine dbh           borehole              groundwater     11075\n",
       "other                 other                 unknown           212\n",
       "rainwater harvesting  rainwater harvesting  surface          2295\n",
       "river                 river/lake            surface          9612\n",
       "shallow well          shallow well          groundwater     16824\n",
       "spring                spring                groundwater     17021\n",
       "unknown               other                 unknown            66\n",
       "dtype: int64"
      ]
     },
     "execution_count": 35,
     "metadata": {},
     "output_type": "execute_result"
    }
   ],
   "source": [
    "full_data_merged.groupby(['source', 'source_type', 'source_class']).size() "
   ]
  },
  {
   "cell_type": "code",
   "execution_count": 36,
   "id": "bf8f44bb",
   "metadata": {
    "ExecuteTime": {
     "end_time": "2025-03-24T16:17:46.083601Z",
     "start_time": "2025-03-24T16:17:46.054178Z"
    }
   },
   "outputs": [
    {
     "data": {
      "text/plain": [
       "waterpoint_type              waterpoint_type_group\n",
       "cattle trough                cattle trough              116\n",
       "communal standpipe           communal standpipe       28522\n",
       "communal standpipe multiple  communal standpipe        6103\n",
       "dam                          dam                          7\n",
       "hand pump                    hand pump                17488\n",
       "improved spring              improved spring            784\n",
       "other                        other                     6380\n",
       "dtype: int64"
      ]
     },
     "execution_count": 36,
     "metadata": {},
     "output_type": "execute_result"
    }
   ],
   "source": [
    "full_data_merged.groupby(['waterpoint_type', 'waterpoint_type_group']).size() "
   ]
  },
  {
   "cell_type": "code",
   "execution_count": 37,
   "id": "e697267c",
   "metadata": {
    "ExecuteTime": {
     "end_time": "2025-03-24T16:17:46.144163Z",
     "start_time": "2025-03-24T16:17:46.090084Z"
    },
    "scrolled": true
   },
   "outputs": [
    {
     "data": {
      "text/plain": [
       "funder               installer          \n",
       "A/co Germany         TPP TRUSTMOSHI         15\n",
       "Aar                  AAR                     4\n",
       "                     COCANE                 27\n",
       "                     FOLAC                   1\n",
       "                     Unknown                 1\n",
       "                                            ..\n",
       "Zao                  Zao                     1\n",
       "Zao Water Spring     Zao water spring        3\n",
       "Zao Water Spring X   Zao water spring X      1\n",
       "Zinduka              ZINDUKA                 1\n",
       "Zingibali Secondary  Zingibali Secondary     1\n",
       "Length: 3754, dtype: int64"
      ]
     },
     "execution_count": 37,
     "metadata": {},
     "output_type": "execute_result"
    }
   ],
   "source": [
    "full_data_merged.groupby(['funder', 'installer']).size() "
   ]
  },
  {
   "cell_type": "code",
   "execution_count": 38,
   "id": "8e91bb4f",
   "metadata": {
    "ExecuteTime": {
     "end_time": "2025-03-24T16:17:46.188292Z",
     "start_time": "2025-03-24T16:17:46.153870Z"
    },
    "scrolled": false
   },
   "outputs": [
    {
     "data": {
      "text/plain": [
       "ward          lga         \n",
       "Aghondi       Manyoni         12\n",
       "Akheri        Meru            45\n",
       "Arash         Ngorongoro      12\n",
       "Arri          Babati          19\n",
       "Arusha Chini  Moshi Rural     57\n",
       "                              ..\n",
       "Ziwani        Mtwara Rural    32\n",
       "Zoissa        Kongwa          16\n",
       "Zombo         Kilosa          25\n",
       "Zongomera     Kahama          33\n",
       "Zuzu          Dodoma Urban    16\n",
       "Length: 2191, dtype: int64"
      ]
     },
     "execution_count": 38,
     "metadata": {},
     "output_type": "execute_result"
    }
   ],
   "source": [
    "full_data_merged.groupby(['ward','lga']).size()"
   ]
  },
  {
   "cell_type": "code",
   "execution_count": 39,
   "id": "fd2ccfab",
   "metadata": {
    "ExecuteTime": {
     "end_time": "2025-03-24T16:17:46.205513Z",
     "start_time": "2025-03-24T16:17:46.199637Z"
    }
   },
   "outputs": [],
   "source": [
    "redundant_columns = ['lga','region_code','management_group','extraction_type_group','extraction_type_class','payment','quality_group','quantity_group','source_type','source_class','waterpoint_type_group']"
   ]
  },
  {
   "cell_type": "code",
   "execution_count": 40,
   "id": "f7c4ba72",
   "metadata": {
    "ExecuteTime": {
     "end_time": "2025-03-24T16:17:46.241430Z",
     "start_time": "2025-03-24T16:17:46.210172Z"
    },
    "scrolled": false
   },
   "outputs": [],
   "source": [
    "full_data_merged.drop(redundant_columns, axis=1, inplace=True)"
   ]
  },
  {
   "cell_type": "code",
   "execution_count": 41,
   "id": "d8e0c63c",
   "metadata": {
    "ExecuteTime": {
     "end_time": "2025-03-24T16:17:46.339489Z",
     "start_time": "2025-03-24T16:17:46.254958Z"
    }
   },
   "outputs": [
    {
     "data": {
      "text/plain": [
       "id                       0\n",
       "amount_tsh               0\n",
       "date_recorded            0\n",
       "funder                   0\n",
       "gps_height               0\n",
       "installer                0\n",
       "longitude                0\n",
       "latitude                 0\n",
       "basin                    0\n",
       "region                   0\n",
       "district_code            0\n",
       "ward                     0\n",
       "population               0\n",
       "public_meeting        3334\n",
       "scheme_management        0\n",
       "scheme_name          28810\n",
       "permit                3056\n",
       "construction_year        0\n",
       "extraction_type          0\n",
       "management               0\n",
       "payment_type             0\n",
       "water_quality            0\n",
       "quantity                 0\n",
       "source                   0\n",
       "waterpoint_type          0\n",
       "status_group             0\n",
       "dtype: int64"
      ]
     },
     "execution_count": 41,
     "metadata": {},
     "output_type": "execute_result"
    }
   ],
   "source": [
    "full_data_merged.isnull().sum()"
   ]
  },
  {
   "cell_type": "code",
   "execution_count": 42,
   "id": "025b3bc7",
   "metadata": {
    "ExecuteTime": {
     "end_time": "2025-03-24T16:17:46.352209Z",
     "start_time": "2025-03-24T16:17:46.347076Z"
    }
   },
   "outputs": [],
   "source": [
    "#dropping because too many missing values"
   ]
  },
  {
   "cell_type": "code",
   "execution_count": 43,
   "id": "4bf91870",
   "metadata": {
    "ExecuteTime": {
     "end_time": "2025-03-24T16:17:46.385119Z",
     "start_time": "2025-03-24T16:17:46.357321Z"
    }
   },
   "outputs": [],
   "source": [
    "full_data_merged.drop(['permit', 'scheme_name','public_meeting'], axis=1, inplace=True)"
   ]
  },
  {
   "cell_type": "code",
   "execution_count": 44,
   "id": "ec9e7338",
   "metadata": {
    "ExecuteTime": {
     "end_time": "2025-03-24T16:17:46.455603Z",
     "start_time": "2025-03-24T16:17:46.390323Z"
    }
   },
   "outputs": [
    {
     "data": {
      "text/plain": [
       "id                   0\n",
       "amount_tsh           0\n",
       "date_recorded        0\n",
       "funder               0\n",
       "gps_height           0\n",
       "installer            0\n",
       "longitude            0\n",
       "latitude             0\n",
       "basin                0\n",
       "region               0\n",
       "district_code        0\n",
       "ward                 0\n",
       "population           0\n",
       "scheme_management    0\n",
       "construction_year    0\n",
       "extraction_type      0\n",
       "management           0\n",
       "payment_type         0\n",
       "water_quality        0\n",
       "quantity             0\n",
       "source               0\n",
       "waterpoint_type      0\n",
       "status_group         0\n",
       "dtype: int64"
      ]
     },
     "execution_count": 44,
     "metadata": {},
     "output_type": "execute_result"
    }
   ],
   "source": [
    "full_data_merged.isnull().sum()"
   ]
  },
  {
   "cell_type": "markdown",
   "id": "4438e2ea",
   "metadata": {},
   "source": [
    "Feature engineering"
   ]
  },
  {
   "cell_type": "code",
   "execution_count": 45,
   "id": "1bf1f15e",
   "metadata": {
    "ExecuteTime": {
     "end_time": "2025-03-24T16:17:46.471307Z",
     "start_time": "2025-03-24T16:17:46.458594Z"
    }
   },
   "outputs": [],
   "source": [
    "#adding time between construction date and record date\n",
    "full_data_merged['operation_time'] = full_data_merged['date_recorded'].dt.year - full_data_merged['construction_year']"
   ]
  },
  {
   "cell_type": "code",
   "execution_count": 46,
   "id": "c3cdc334",
   "metadata": {
    "ExecuteTime": {
     "end_time": "2025-03-24T16:17:46.486112Z",
     "start_time": "2025-03-24T16:17:46.475986Z"
    }
   },
   "outputs": [
    {
     "data": {
      "text/plain": [
       "0        12.0\n",
       "1         3.0\n",
       "2         4.0\n",
       "3        27.0\n",
       "4         8.0\n",
       "         ... \n",
       "59395    14.0\n",
       "59396    15.0\n",
       "59397     8.0\n",
       "59398    13.0\n",
       "59399     9.0\n",
       "Name: operation_time, Length: 59400, dtype: float64"
      ]
     },
     "execution_count": 46,
     "metadata": {},
     "output_type": "execute_result"
    }
   ],
   "source": [
    "full_data_merged['operation_time']"
   ]
  },
  {
   "cell_type": "code",
   "execution_count": 47,
   "id": "72a27e89",
   "metadata": {
    "ExecuteTime": {
     "end_time": "2025-03-24T16:17:46.523500Z",
     "start_time": "2025-03-24T16:17:46.495542Z"
    }
   },
   "outputs": [],
   "source": [
    "full_data_merged.drop(['date_recorded','construction_year'], axis=1, inplace=True)"
   ]
  },
  {
   "cell_type": "markdown",
   "id": "11dc8049",
   "metadata": {},
   "source": [
    "Caterogies formating"
   ]
  },
  {
   "cell_type": "code",
   "execution_count": 48,
   "id": "430ed092",
   "metadata": {
    "ExecuteTime": {
     "end_time": "2025-03-24T16:17:46.558741Z",
     "start_time": "2025-03-24T16:17:46.528331Z"
    }
   },
   "outputs": [],
   "source": [
    "cat_features = full_data_merged.select_dtypes('object')"
   ]
  },
  {
   "cell_type": "code",
   "execution_count": 49,
   "id": "0248761a",
   "metadata": {
    "ExecuteTime": {
     "end_time": "2025-03-24T16:17:47.143924Z",
     "start_time": "2025-03-24T16:17:46.570800Z"
    }
   },
   "outputs": [],
   "source": [
    "for col in cat_features.columns:\n",
    "    full_data_merged[col] = (\n",
    "        full_data_merged[col]\n",
    "        .str.lower()\n",
    "        .str.strip())"
   ]
  },
  {
   "cell_type": "markdown",
   "id": "3f20ce00",
   "metadata": {},
   "source": [
    "Top 20 Funder & installer"
   ]
  },
  {
   "cell_type": "code",
   "execution_count": 52,
   "id": "85fc2cf4",
   "metadata": {
    "ExecuteTime": {
     "end_time": "2025-03-24T16:28:11.555245Z",
     "start_time": "2025-03-24T16:21:37.598991Z"
    }
   },
   "outputs": [],
   "source": [
    "full_data_merged['top_installer'] = full_data_merged['installer'].apply(\n",
    "    lambda x: x if x in full_data_merged['installer'].value_counts().head(20).index else 'Others'\n",
    ")"
   ]
  },
  {
   "cell_type": "code",
   "execution_count": 61,
   "id": "4839d01f",
   "metadata": {
    "ExecuteTime": {
     "end_time": "2025-03-24T16:36:49.875430Z",
     "start_time": "2025-03-24T16:30:02.260191Z"
    }
   },
   "outputs": [],
   "source": [
    "full_data_merged['top_funder'] = full_data_merged['funder'].apply(\n",
    "    lambda x: x if x in full_data_merged['funder'].value_counts().head(20).index else 'Others'\n",
    ")"
   ]
  },
  {
   "cell_type": "markdown",
   "id": "3eff5b5e",
   "metadata": {},
   "source": [
    "# Save and export cleaned data set to csv"
   ]
  },
  {
   "cell_type": "code",
   "execution_count": 64,
   "id": "48fe9fa0",
   "metadata": {
    "ExecuteTime": {
     "end_time": "2025-03-24T16:37:20.975820Z",
     "start_time": "2025-03-24T16:37:19.503282Z"
    }
   },
   "outputs": [],
   "source": [
    "pd.DataFrame(full_data_merged).to_csv(\"clean_training_set.csv\")"
   ]
  }
 ],
 "metadata": {
  "kernelspec": {
   "display_name": "Python 3 (ipykernel)",
   "language": "python",
   "name": "python3"
  },
  "language_info": {
   "codemirror_mode": {
    "name": "ipython",
    "version": 3
   },
   "file_extension": ".py",
   "mimetype": "text/x-python",
   "name": "python",
   "nbconvert_exporter": "python",
   "pygments_lexer": "ipython3",
   "version": "3.10.6"
  },
  "toc": {
   "base_numbering": 1,
   "nav_menu": {},
   "number_sections": true,
   "sideBar": true,
   "skip_h1_title": false,
   "title_cell": "Table of Contents",
   "title_sidebar": "Contents",
   "toc_cell": false,
   "toc_position": {},
   "toc_section_display": true,
   "toc_window_display": false
  }
 },
 "nbformat": 4,
 "nbformat_minor": 5
}
